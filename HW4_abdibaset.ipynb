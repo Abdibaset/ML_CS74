{
  "nbformat": 4,
  "nbformat_minor": 0,
  "metadata": {
    "colab": {
      "provenance": [],
      "authorship_tag": "ABX9TyOfLJoRP65PQ9ypnwtB04+L",
      "include_colab_link": true
    },
    "kernelspec": {
      "name": "python3",
      "display_name": "Python 3"
    },
    "language_info": {
      "name": "python"
    }
  },
  "cells": [
    {
      "cell_type": "markdown",
      "metadata": {
        "id": "view-in-github",
        "colab_type": "text"
      },
      "source": [
        "<a href=\"https://colab.research.google.com/github/Abdibaset/ML_CS74/blob/main/HW4_abdibaset.ipynb\" target=\"_parent\"><img src=\"https://colab.research.google.com/assets/colab-badge.svg\" alt=\"Open In Colab\"/></a>"
      ]
    },
    {
      "cell_type": "code",
      "execution_count": 306,
      "metadata": {
        "id": "qjZ-2Sb6R_WO"
      },
      "outputs": [],
      "source": [
        "## load data\n",
        "import pandas as pd\n",
        "from sklearn.model_selection import train_test_split\n",
        "from sklearn.metrics import f1_score\n",
        "\n",
        "\n",
        "data = pd.read_csv('hw4_naive.csv')\n",
        "target_label = data['Label']\n",
        "data.drop('Label', axis=1, inplace=True)\n",
        "data.head()\n",
        "\n",
        "X_train, X_test, y_train, y_test = train_test_split(data, target_label, test_size=0.2, random_state=27)\n"
      ]
    },
    {
      "cell_type": "markdown",
      "source": [
        "# **Evaluation Metrics**"
      ],
      "metadata": {
        "id": "eLs8klbLsyj0"
      }
    },
    {
      "cell_type": "code",
      "source": [
        "def evaluate(y_actual, y_pred):\n",
        "    y_actual = np.array(y_actual)\n",
        "    y_pred = np.array(y_pred)\n",
        "    false_positive = np.sum((y_actual == 0) & (y_pred == 1))\n",
        "    false_negative = np.sum((y_actual == 1) & (y_pred == 0))\n",
        "    true_positive = np.sum((y_actual == 1) & (y_pred == 1))\n",
        "    true_negative = np.sum((y_actual == 0) & (y_pred == 0))\n",
        "\n",
        "    accuracy = (true_positive + true_negative) / (false_positive + false_negative + true_positive + true_negative)\n",
        "\n",
        "    precision = true_positive / (true_positive + false_positive)\n",
        "    recall = true_positive / (true_positive + false_negative)\n",
        "    if precision + recall == 0:\n",
        "        f1_score = 0\n",
        "    else:\n",
        "        f1_score = 2 * (precision * recall) / (precision + recall)\n",
        "    confusion_matrix = np.array([[true_negative, false_positive], [false_negative, true_positive]])\n",
        "\n",
        "    print('Confusion Matrix:', confusion_matrix)\n",
        "    print('Accuracy:', accuracy)\n",
        "    print('F1 Score:', f1_score)"
      ],
      "metadata": {
        "id": "sWwlzxdXz6tE"
      },
      "execution_count": 307,
      "outputs": []
    },
    {
      "cell_type": "markdown",
      "source": [
        "# **Multinomial Naive Bayes Implementation**"
      ],
      "metadata": {
        "id": "FkuATuYGL9H0"
      }
    },
    {
      "cell_type": "code",
      "source": [
        "import numpy as np\n",
        "from collections import defaultdict\n",
        "from sklearn.metrics import f1_score\n",
        "\n",
        "class MultinomialNaiveBayes:\n",
        "    def __init__(self, smoothing_alpha):\n",
        "        self.feature_counts = defaultdict(lambda: defaultdict(int)) ## create nested dict for feature count associate with class\n",
        "        self.class_counts = defaultdict(int) ## create dict for class count\n",
        "        self.prior_probabilities = defaultdict(int) ## create dict for prior probabilities\n",
        "        self.feature_likelihoods = defaultdict(lambda: defaultdict(int)) ## create nested dict for feature likelihood associate with class\n",
        "        self.num_classes = 0\n",
        "        self.smoothing_alpha = smoothing_alpha\n",
        "\n",
        "\n",
        "    def calculate_prior_probabilities(self, y_train):\n",
        "      \"\"\"\n",
        "      Calculate the probability of each class in the data set\n",
        "      prob = count(class) / count(all)\n",
        "      \"\"\"\n",
        "      for label in np.unique(y_train):\n",
        "          self.prior_probabilities[label] = self.class_counts[label] / len(y_train)\n",
        "\n",
        "    def calculate_feature_likelihoods(self):\n",
        "      \"\"\"\n",
        "      - Calculates the hypothesis/ likelihood of feature occuring\n",
        "      - Populates the likelihood dict\n",
        "      - likehoold = (number of times feature occures + 1 ) / ( total number of features + number of classes)\n",
        "      \"\"\"\n",
        "      for label in self.feature_counts.keys():\n",
        "          for feature, value_count in self.feature_counts[label].items():\n",
        "              self.feature_likelihoods[label][feature] = (value_count + self.smoothing_alpha) / (self.class_counts[label] + self.num_classes)\n",
        "\n",
        "    def fit(self, X_train, y_train):\n",
        "      \"\"\"\n",
        "      Calculates the class and feature counts to be used for prior prob calculation\n",
        "      \"\"\"\n",
        "      self.num_classes = len(np.unique(y_train)) # get the number of classes\n",
        "      for i in range(len(y_train)):\n",
        "          label = y_train[i]\n",
        "          self.class_counts[label] += 1\n",
        "          ## loop over the rows of the train data and update the feature counts\n",
        "          for feature, value in X_train.iloc[i].items():\n",
        "              self.feature_counts[label][feature, value] += 1 ## update this feature's count\n",
        "\n",
        "      self.calculate_prior_probabilities(y_train) # calculate the prior\n",
        "      self.calculate_feature_likelihoods()\n",
        "\n",
        "    def predict(self, X_test):\n",
        "        y_pred = []\n",
        "        for ind, row in X_test.iterrows():\n",
        "          pred_dict = dict(self.prior_probabilities) # make copy of the prior evidence\n",
        "          for label in pred_dict.keys():\n",
        "            ## loop over the items in the row\n",
        "              for feature, value in row.items():\n",
        "                #get the likelihood/evidence, and if not present assign one\n",
        "                  likelihood = self.feature_likelihoods[label].get((feature, value), 1 / (self.class_counts[label] + self.num_classes))\n",
        "                  pred_dict[label] += np.log(likelihood) # scaling the likelihood to prevent extremely large or small probs\n",
        "\n",
        "          pred_class = max(pred_dict, key=pred_dict.get)\n",
        "          y_pred.append(pred_class)\n",
        "\n",
        "        return y_pred\n"
      ],
      "metadata": {
        "id": "zc4CKhszbj8X"
      },
      "execution_count": 308,
      "outputs": []
    },
    {
      "cell_type": "code",
      "source": [
        "## testing Multinaive bayes model\n",
        "multi_nb = MultinomialNaiveBayes(smoothing_alpha=1.0)\n",
        "multi_nb.fit(X_train, np.array(y_train))\n",
        "y_pred = multi_nb.predict(X_test)\n",
        "evaluate(y_test, y_pred) # print the evaluation metrics"
      ],
      "metadata": {
        "colab": {
          "base_uri": "https://localhost:8080/"
        },
        "id": "46R2i3Bcz-jV",
        "outputId": "77d4c902-c845-4420-97a9-82f74bb33f7a"
      },
      "execution_count": 309,
      "outputs": [
        {
          "output_type": "stream",
          "name": "stdout",
          "text": [
            "Confusion Matrix: [[569  63]\n",
            " [ 86 402]]\n",
            "Accuracy: 0.8669642857142857\n",
            "F1 Score: 0.8436516264428122\n"
          ]
        }
      ]
    },
    {
      "cell_type": "markdown",
      "source": [
        "# **Gaussian Naive Bayes**"
      ],
      "metadata": {
        "id": "L_2zKPwx29sp"
      }
    },
    {
      "cell_type": "code",
      "source": [
        "import numpy as np\n",
        "from collections import defaultdict\n",
        "from sklearn.metrics import f1_score\n",
        "\n",
        "class GaussianNaiveBayes:\n",
        "    def __init__(self):\n",
        "        self.class_probs = defaultdict(int)\n",
        "        self.class_dict =  defaultdict(dict)\n",
        "        self.feature_counts = defaultdict(lambda: defaultdict(int)) ## create nested dict for feature count associate with class\n",
        "        self.class_counts = defaultdict(int) ## create dict for class count\n",
        "        self.prior_probabilities = defaultdict(int) ## create dict for prior probabilities\n",
        "\n",
        "    def calculate_prior_probabilities(self, y_train):\n",
        "      \"\"\"\n",
        "      Calculate the probability of each class in the data set\n",
        "      prob = count(class) / count(all)\n",
        "      \"\"\"\n",
        "      for label in np.unique(y_train):\n",
        "          self.prior_probabilities[label] = self.class_counts[label] / len(y_train)\n",
        "\n",
        "    def fit(self, X_train, y_train):\n",
        "      for i in range(len(y_train)):\n",
        "          label = y_train[i]\n",
        "          self.class_counts[label] += 1\n",
        "\n",
        "          for feature, value in X_train.iloc[i].items():\n",
        "              self.feature_counts[label][feature, value] += 1\n",
        "\n",
        "      self.calculate_prior_probabilities(y_train) # calculate prior probabilities\n",
        "      self.class_dict\n",
        "      for label in self.feature_counts.keys():\n",
        "          feature_vals = {feature: [val for i, val in enumerate(X_train[feature]) if y_train[i] == label] for feature in X_train.columns}\n",
        "\n",
        "          # Calculate mean and variance for each feature\n",
        "          self.class_dict[label]['mean_dict'] = {feature: np.mean(vals) if vals else 0 for feature, vals in feature_vals.items()}\n",
        "          self.class_dict[label]['std_dict'] = {feature: np.std(vals) for feature, vals in feature_vals.items()}\n",
        "\n",
        "    def gussian_val_calculation(self, value, feature, label):\n",
        "        f_std = self.class_dict[label]['std_dict'][feature] # get the evidence std value\n",
        "        f_means = self.class_dict[label]['mean_dict'][feature] # get the evidence mean value\n",
        "\n",
        "        # Calculate the gaussian probability\n",
        "        gaussian_term_1 = 1 / (np.sqrt(2 * np.pi * (f_std**2)))\n",
        "        gaussian_term_2 = np.exp(-((value - f_means)**2) / (2 * (f_std**2)))\n",
        "        return gaussian_term_1 * gaussian_term_2\n",
        "\n",
        "    def predict(self, X_test):\n",
        "        y_pred = []\n",
        "\n",
        "        for ind, row in X_test.iterrows():\n",
        "            pred_dict = dict(self.prior_probabilities) # make copy for the initial prorioty dict\n",
        "            for label in pred_dict.keys():\n",
        "                for feature, value in row.items():\n",
        "                    likelihood = self.gussian_val_calculation(value, feature, label) # calculate the gaussian probability\n",
        "                    likelihood = max(likelihood, 1e-5) # prevent taking the log of zero\n",
        "                    pred_dict[label] += np.log(likelihood) # get logs to balance large and small values\n",
        "\n",
        "            pred_class = max(pred_dict, key=pred_dict.get)\n",
        "            y_pred.append(pred_class)\n",
        "\n",
        "        return y_pred\n"
      ],
      "metadata": {
        "id": "_vELRVcGMKtH"
      },
      "execution_count": 310,
      "outputs": []
    },
    {
      "cell_type": "code",
      "source": [
        "gaussian_nb = GaussianNaiveBayes()\n",
        "gaussian_nb.fit(X_train, np.array(y_train))\n",
        "y_pred = gaussian_nb.predict(X_test)\n",
        "evaluate(y_test, y_pred)"
      ],
      "metadata": {
        "colab": {
          "base_uri": "https://localhost:8080/"
        },
        "id": "WiyRGOlC-RY_",
        "outputId": "66e0d8b2-aeae-4e71-ed41-96f198ece175"
      },
      "execution_count": 311,
      "outputs": [
        {
          "output_type": "stream",
          "name": "stdout",
          "text": [
            "Confusion Matrix: [[539  93]\n",
            " [373 115]]\n",
            "Accuracy: 0.5839285714285715\n",
            "F1 Score: 0.33045977011494254\n"
          ]
        }
      ]
    },
    {
      "cell_type": "markdown",
      "source": [],
      "metadata": {
        "id": "jubZYBMnCK_Y"
      }
    },
    {
      "cell_type": "markdown",
      "source": [
        "# **Clustering**"
      ],
      "metadata": {
        "id": "_Prpl4GECGPm"
      }
    },
    {
      "cell_type": "code",
      "source": [
        "import matplotlib.pyplot as plt\n",
        "%matplotlib inline\n",
        "cluster_data = pd.read_csv(\"hw4_cluster.csv\")\n",
        "x = cluster_data.iloc[:, 0]\n",
        "y = cluster_data.iloc[:, 1]\n",
        "plt.scatter(x, y)\n",
        "plt.xlabel('X')\n",
        "plt.ylabel('Y')\n",
        "plt.title('Cluster Data')\n",
        "plt.show()\n"
      ],
      "metadata": {
        "colab": {
          "base_uri": "https://localhost:8080/",
          "height": 472
        },
        "id": "Mzlc_UcACMM6",
        "outputId": "23f28be0-8dba-43b6-c5bd-32abb35d26e5"
      },
      "execution_count": 312,
      "outputs": [
        {
          "output_type": "display_data",
          "data": {
            "text/plain": [
              "<Figure size 640x480 with 1 Axes>"
            ],
            "image/png": "[encoded data removed]"
          },
          "metadata": {}
        }
      ]
    },
    {
      "cell_type": "code",
      "source": [
        "\n",
        "import numpy as np\n",
        "import random\n",
        "\n",
        "# Util functions\n",
        "def euclidean_distance(x1, y1, x2, y2):\n",
        "    return np.sqrt((x2 - x1) ** 2 + (y2 - y1) ** 2)\n",
        "\n",
        "def centroid_mean(points):\n",
        "    return np.mean(points, axis=0)\n",
        "\n",
        "def random_seed_init(K, points):\n",
        "    centroids = [[] for _ in range(K)]\n",
        "    sorted_points = sorted(points, key=lambda x: x[1], reverse=True)\n",
        "    points_split_by_x1 = np.array_split(sorted_points, K)\n",
        "    for i in range(K):\n",
        "        centroids[i] = points_split_by_x1[i][random.randint(0, len(points_split_by_x1[i]) - 1)]\n",
        "\n",
        "    return centroids\n",
        "\n",
        "# find closest bucket by centroid\n",
        "def find_min_bucket(point, centroids):\n",
        "    distances = [euclidean_distance(point[0], point[1], centroid[0], centroid[1]) for centroid in centroids]\n",
        "    return np.argmin(distances)\n",
        "\n",
        "def k_means(data, init_method, K=3, max_iters=50):\n",
        "    buckets = np.array_split(data, K)\n",
        "\n",
        "    if init_method == 'random_split' or init_method == None or init_method == '':\n",
        "        centroids = [centroid_mean(bucket) for bucket in buckets]\n",
        "    elif init_method == 'random_seed':\n",
        "        centroids = random_seed_init(K, data)\n",
        "\n",
        "    for _ in range(max_iters):\n",
        "        change = False\n",
        "\n",
        "        # update centroids and buckets in one pass\n",
        "        new_centroids = [centroid_mean(bucket) for bucket in buckets]\n",
        "        new_buckets = [[] for _ in range(K)]\n",
        "\n",
        "        # iterate through each point in all buckets\n",
        "        for point in data:\n",
        "            closest = find_min_bucket(point, new_centroids) # find closest bucket\n",
        "            new_buckets[closest].append(point)\n",
        "\n",
        "            # check if the point's bucket has changed\n",
        "            if closest != find_min_bucket(point, centroids): change = True\n",
        "\n",
        "        # if no change, return buckets\n",
        "        if not change:\n",
        "          return np.array(new_buckets)\n",
        "\n",
        "        # if change, update centroids and buckets\n",
        "        centroids = new_centroids\n",
        "        buckets = np.array(new_buckets)\n",
        "\n",
        "    return np.array(new_buckets)\n",
        "\n"
      ],
      "metadata": {
        "id": "GoOIeZvIKTWk"
      },
      "execution_count": 313,
      "outputs": []
    },
    {
      "cell_type": "code",
      "source": [
        "## test k-means\n",
        "points = np.column_stack([x, y])\n",
        "print(points.shape)\n",
        "buckets = k_means(points, init_method='random_seed', K=5)\n",
        "\n",
        "colors = ['b', 'g', 'y', 'black', 'r']\n",
        "for i, bucket in enumerate(buckets):\n",
        "    for point in bucket:\n",
        "        plt.scatter(point[0], point[1], c=colors[i])\n",
        "\n",
        "plt.xlabel('X')\n",
        "plt.ylabel('Y')\n",
        "plt.title('Cluster Data')\n",
        "plt.show()"
      ],
      "metadata": {
        "colab": {
          "base_uri": "https://localhost:8080/",
          "height": 489
        },
        "id": "FZnXzlU5M_BJ",
        "outputId": "16ba74c1-3d6b-43c9-ef07-b569cc11c592"
      },
      "execution_count": 324,
      "outputs": [
        {
          "output_type": "stream",
          "name": "stdout",
          "text": [
            "(40, 2)\n"
          ]
        },
        {
          "output_type": "display_data",
          "data": {
            "text/plain": [
              "<Figure size 640x480 with 1 Axes>"
            ],
            "image/png": "[encoded data removed]"
          },
          "metadata": {}
        }
      ]
    },
    {
      "cell_type": "markdown",
      "source": [
        "# **Silhouette Score**"
      ],
      "metadata": {
        "id": "SB5ZFG2voTo9"
      }
    },
    {
      "cell_type": "code",
      "source": [
        "\n",
        "def silhouette_score(clusters):\n",
        "    closest_cluster_dict = get_closest_clusters(clusters) # get closests in dict\n",
        "    total_points = sum(len(cluster) for cluster in clusters)\n",
        "\n",
        "    silhouette_scores = []\n",
        "    for i in range(len(clusters)):\n",
        "        cluster_i = clusters[i]\n",
        "        for point in cluster_i:\n",
        "          # get score for individual points\n",
        "          silhouette_scores.append(get_point_score(point, cluster_i, clusters[closest_cluster_dict[i]]))\n",
        "\n",
        "    # calculate total silhouette score\n",
        "    return np.sum(silhouette_scores) / total_points\n",
        "\n",
        "def get_closest_clusters(points):\n",
        "    \"\"\"\n",
        "    - finds the closest clusters from the points given\n",
        "    \"\"\"\n",
        "    closest_dict = defaultdict(int)\n",
        "\n",
        "    for i, cluster_i in enumerate(points):\n",
        "      if len(cluster_i) > 0:\n",
        "          min_distance = float('inf')\n",
        "          centroid_i = centroid_mean(cluster_i)  # centroid of the current out loop cluster\n",
        "\n",
        "          # loop over all clusters\n",
        "          for j, cluster_j in enumerate(points):\n",
        "              if i != j:\n",
        "                  # centroid of the inner loop cluster\n",
        "                  centroid_j = centroid_mean(cluster_j)\n",
        "\n",
        "                  # calculate euclidean distance between the outer loop and inner loop centroids\n",
        "                  euclidean_dist = euclidean_distance(centroid_i[0], centroid_i[1], centroid_j[0], centroid_j[1])\n",
        "\n",
        "                  # update the mean distance if current euclidean is less\n",
        "                  if euclidean_dist < min_distance:\n",
        "                      closest_dict[i] = j\n",
        "                      min_distance = euclidean_dist  # Fix: Use euclidean_dist instead of euclidean_distance\n",
        "    return closest_dict\n",
        "\n",
        "def get_point_score(point, cluster, closest):\n",
        "  average_dist_intra_cluster = np.mean([euclidean_distance(point[0], point[1], x[0], x[1]) for x in cluster] )\n",
        "  mean_dist_intra_cluster = np.mean([euclidean_distance(point[0], point[1], x[0], x[1]) for x in closest])\n",
        "  return (mean_dist_intra_cluster - average_dist_intra_cluster) / max(average_dist_intra_cluster, mean_dist_intra_cluster)\n"
      ],
      "metadata": {
        "id": "lLKGA0YYaIQ3"
      },
      "execution_count": 325,
      "outputs": []
    },
    {
      "cell_type": "code",
      "source": [
        "## test silhouette_score\n",
        "print('silhouette score:', silhouette_score(buckets))"
      ],
      "metadata": {
        "colab": {
          "base_uri": "https://localhost:8080/"
        },
        "id": "ItM5BSXLbNhq",
        "outputId": "e3c96e36-7eb2-4f40-d619-47084027df2c"
      },
      "execution_count": 326,
      "outputs": [
        {
          "output_type": "stream",
          "name": "stdout",
          "text": [
            "silhouette score: 0.6668324230732491\n"
          ]
        }
      ]
    },
    {
      "cell_type": "markdown",
      "source": [
        "# **Bonus Question**"
      ],
      "metadata": {
        "id": "lX_cw6qqsZHV"
      }
    },
    {
      "cell_type": "code",
      "source": [
        "def visualize_and_score(points, k):\n",
        "    buckets = k_means(points, init_method=\"random_split\", K=k, max_iters=100)\n",
        "\n",
        "    colors = ['red', 'black', 'yellow', 'green', 'blue']\n",
        "    for i, bucket in enumerate(buckets):\n",
        "        for point in bucket:\n",
        "            plt.scatter(point[0], point[1], color=colors[i])\n",
        "\n",
        "    plt.show()\n",
        "\n",
        "    # Print silhouette score\n",
        "    score = silhouette_score(buckets)\n",
        "    print(\"Score for k=\", k, score)\n",
        "\n",
        "for k in range(2, 6):\n",
        "    visualize_and_score(points, k)\n"
      ],
      "metadata": {
        "colab": {
          "base_uri": "https://localhost:8080/",
          "height": 1000
        },
        "id": "3jextjsLokE-",
        "outputId": "5f774a54-c02d-4378-e250-d3b7de96f5ab"
      },
      "execution_count": 327,
      "outputs": [
        {
          "output_type": "stream",
          "name": "stderr",
          "text": [
            "<ipython-input-313-f270d27a7294>:50: VisibleDeprecationWarning: Creating an ndarray from ragged nested sequences (which is a list-or-tuple of lists-or-tuples-or ndarrays with different lengths or shapes) is deprecated. If you meant to do this, you must specify 'dtype=object' when creating the ndarray.\n",
            "  return np.array(new_buckets)\n"
          ]
        },
        {
          "output_type": "display_data",
          "data": {
            "text/plain": [
              "<Figure size 640x480 with 1 Axes>"
            ],
            "image/png": "[encoded data removed]"
          },
          "metadata": {}
        },
        {
          "output_type": "stream",
          "name": "stdout",
          "text": [
            "Score for k= 2 0.711663255638351\n"
          ]
        },
        {
          "output_type": "display_data",
          "data": {
            "text/plain": [
              "<Figure size 640x480 with 1 Axes>"
            ],
            "image/png": "[encoded data removed]"
          },
          "metadata": {}
        },
        {
          "output_type": "stream",
          "name": "stdout",
          "text": [
            "Score for k= 3 0.6929971471182135\n"
          ]
        },
        {
          "output_type": "display_data",
          "data": {
            "text/plain": [
              "<Figure size 640x480 with 1 Axes>"
            ],
            "image/png": "[encoded data removed]"
          },
          "metadata": {}
        },
        {
          "output_type": "stream",
          "name": "stdout",
          "text": [
            "Score for k= 4 0.6668324230732491\n"
          ]
        },
        {
          "output_type": "display_data",
          "data": {
            "text/plain": [
              "<Figure size 640x480 with 1 Axes>"
            ],
            "image/png": "[encoded data removed]"
          },
          "metadata": {}
        },
        {
          "output_type": "stream",
          "name": "stdout",
          "text": [
            "Score for k= 5 0.6369161586113199\n"
          ]
        }
      ]
    },
    {
      "cell_type": "markdown",
      "source": [
        "K = 2 gives the highest silhouette score of 0.77 hence the best K value"
      ],
      "metadata": {
        "id": "VODbrD2Fsfkw"
      }
    }
  ]
}