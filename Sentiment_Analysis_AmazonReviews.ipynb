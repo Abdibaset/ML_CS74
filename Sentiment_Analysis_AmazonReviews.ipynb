{
  "cells": [
    {
      "cell_type": "markdown",
      "metadata": {
        "id": "view-in-github",
        "colab_type": "text"
      },
      "source": [
        "<a href=\"https://colab.research.google.com/github/Abdibaset/ML_CS74/blob/main/Sentiment_Analysis_AmazonReviews.ipynb\" target=\"_parent\"><img src=\"https://colab.research.google.com/assets/colab-badge.svg\" alt=\"Open In Colab\"/></a>"
      ]
    },
    {
      "cell_type": "code",
      "execution_count": null,
      "metadata": {
        "id": "7fESRs-Z94P-"
      },
      "outputs": [],
      "source": [
        "from sklearn.utils import validation\n",
        "import pandas as pd\n",
        "from sklearn.feature_extraction.text import TfidfVectorizer\n",
        "from sklearn.model_selection import train_test_split\n",
        "from sklearn.feature_extraction.text import TfidfVectorizer\n",
        "from sklearn.model_selection import train_test_split, GridSearchCV\n",
        "from sklearn.metrics import confusion_matrix, roc_curve, roc_auc_score, f1_score, accuracy_score\n",
        "import numpy as np\n",
        "from sklearn.preprocessing import StandardScaler\n",
        "from imblearn.over_sampling import RandomOverSampler\n",
        "from sklearn.linear_model import LogisticRegression\n",
        "from scipy.sparse import hstack\n",
        "from sklearn.linear_model import Perceptron"
      ]
    },
    {
      "cell_type": "markdown",
      "source": [
        "# **Metrics**"
      ],
      "metadata": {
        "id": "cqMB0oral58u"
      }
    },
    {
      "cell_type": "code",
      "execution_count": null,
      "metadata": {
        "id": "SYULCa9OOFpX"
      },
      "outputs": [],
      "source": [
        "from sklearn.metrics import confusion_matrix, roc_auc_score, accuracy_score, f1_score\n",
        "def evaluationMetrics(y_actual, y_predicted):\n",
        "  confusion_matrix_result = confusion_matrix(y_actual, y_predicted)\n",
        "  roc_auc_result = roc_auc_score(y_actual, y_predicted)\n",
        "  accuracy_result = accuracy_score(y_actual, y_predicted)\n",
        "  f1_score_result = f1_score(y_actual, y_predicted)\n",
        "\n",
        "  print(\"Confusion Matrix: \", confusion_matrix_result, \"\\nroc_auc: \", roc_auc_result, \"\\naccuracy: \", accuracy_result, \"\\nf1_score: \", f1_score_result)"
      ]
    },
    {
      "cell_type": "code",
      "execution_count": null,
      "metadata": {
        "colab": {
          "base_uri": "https://localhost:8080/",
          "height": 330
        },
        "id": "lvdxjj4gMiLL",
        "outputId": "e01d0ce0-d5e9-40dd-e987-0876e96cafe9"
      },
      "outputs": [
        {
          "output_type": "stream",
          "name": "stderr",
          "text": [
            "<ipython-input-66-1402d56263b2>:7: SettingWithCopyWarning: \n",
            "A value is trying to be set on a copy of a slice from a DataFrame.\n",
            "Try using .loc[row_indexer,col_indexer] = value instead\n",
            "\n",
            "See the caveats in the documentation: https://pandas.pydata.org/pandas-docs/stable/user_guide/indexing.html#returning-a-view-versus-a-copy\n",
            "  test_data['verified'] = test_data['verified'].apply(lambda x: \"true\" if x else \"false\")\n"
          ]
        },
        {
          "output_type": "execute_result",
          "data": {
            "text/plain": [
              "                     summary  \\\n",
              "0  All fake reviews, beware.   \n",
              "1                   One Star   \n",
              "2                   One Star   \n",
              "3                   One Star   \n",
              "4                   One Star   \n",
              "\n",
              "                                          reviewText  overall verified  \\\n",
              "0      all of the reviews for this product are fake.        1    false   \n",
              "1                             wrong part. our fault.        1     true   \n",
              "2                   this wire set it really sucks!!!        1     true   \n",
              "3  first use, it leaked instantly. even at 5 buck...        1     true   \n",
              "4                                         didn't fit        1     true   \n",
              "\n",
              "     category  \n",
              "0  automotive  \n",
              "1  automotive  \n",
              "2  automotive  \n",
              "3  automotive  \n",
              "4  automotive  "
            ],
            "text/html": [
              "\n",
              "  <div id=\"df-3e5ae179-6b11-431f-af21-5f83df190f98\" class=\"colab-df-container\">\n",
              "    <div>\n",
              "<style scoped>\n",
              "    .dataframe tbody tr th:only-of-type {\n",
              "        vertical-align: middle;\n",
              "    }\n",
              "\n",
              "    .dataframe tbody tr th {\n",
              "        vertical-align: top;\n",
              "    }\n",
              "\n",
              "    .dataframe thead th {\n",
              "        text-align: right;\n",
              "    }\n",
              "</style>\n",
              "<table border=\"1\" class=\"dataframe\">\n",
              "  <thead>\n",
              "    <tr style=\"text-align: right;\">\n",
              "      <th></th>\n",
              "      <th>summary</th>\n",
              "      <th>reviewText</th>\n",
              "      <th>overall</th>\n",
              "      <th>verified</th>\n",
              "      <th>category</th>\n",
              "    </tr>\n",
              "  </thead>\n",
              "  <tbody>\n",
              "    <tr>\n",
              "      <th>0</th>\n",
              "      <td>All fake reviews, beware.</td>\n",
              "      <td>all of the reviews for this product are fake.</td>\n",
              "      <td>1</td>\n",
              "      <td>false</td>\n",
              "      <td>automotive</td>\n",
              "    </tr>\n",
              "    <tr>\n",
              "      <th>1</th>\n",
              "      <td>One Star</td>\n",
              "      <td>wrong part. our fault.</td>\n",
              "      <td>1</td>\n",
              "      <td>true</td>\n",
              "      <td>automotive</td>\n",
              "    </tr>\n",
              "    <tr>\n",
              "      <th>2</th>\n",
              "      <td>One Star</td>\n",
              "      <td>this wire set it really sucks!!!</td>\n",
              "      <td>1</td>\n",
              "      <td>true</td>\n",
              "      <td>automotive</td>\n",
              "    </tr>\n",
              "    <tr>\n",
              "      <th>3</th>\n",
              "      <td>One Star</td>\n",
              "      <td>first use, it leaked instantly. even at 5 buck...</td>\n",
              "      <td>1</td>\n",
              "      <td>true</td>\n",
              "      <td>automotive</td>\n",
              "    </tr>\n",
              "    <tr>\n",
              "      <th>4</th>\n",
              "      <td>One Star</td>\n",
              "      <td>didn't fit</td>\n",
              "      <td>1</td>\n",
              "      <td>true</td>\n",
              "      <td>automotive</td>\n",
              "    </tr>\n",
              "  </tbody>\n",
              "</table>\n",
              "</div>\n",
              "    <div class=\"colab-df-buttons\">\n",
              "\n",
              "  <div class=\"colab-df-container\">\n",
              "    <button class=\"colab-df-convert\" onclick=\"convertToInteractive('df-3e5ae179-6b11-431f-af21-5f83df190f98')\"\n",
              "            title=\"Convert this dataframe to an interactive table.\"\n",
              "            style=\"display:none;\">\n",
              "\n",
              "  <svg xmlns=\"http://www.w3.org/2000/svg\" height=\"24px\" viewBox=\"0 -960 960 960\">\n",
              "    <path d=\"M120-120v-720h720v720H120Zm60-500h600v-160H180v160Zm220 220h160v-160H400v160Zm0 220h160v-160H400v160ZM180-400h160v-160H180v160Zm440 0h160v-160H620v160ZM180-180h160v-160H180v160Zm440 0h160v-160H620v160Z\"/>\n",
              "  </svg>\n",
              "    </button>\n",
              "\n",
              "  <style>\n",
              "    .colab-df-container {\n",
              "      display:flex;\n",
              "      gap: 12px;\n",
              "    }\n",
              "\n",
              "    .colab-df-convert {\n",
              "      background-color: #E8F0FE;\n",
              "      border: none;\n",
              "      border-radius: 50%;\n",
              "      cursor: pointer;\n",
              "      display: none;\n",
              "      fill: #1967D2;\n",
              "      height: 32px;\n",
              "      padding: 0 0 0 0;\n",
              "      width: 32px;\n",
              "    }\n",
              "\n",
              "    .colab-df-convert:hover {\n",
              "      background-color: #E2EBFA;\n",
              "      box-shadow: 0px 1px 2px rgba(60, 64, 67, 0.3), 0px 1px 3px 1px rgba(60, 64, 67, 0.15);\n",
              "      fill: #174EA6;\n",
              "    }\n",
              "\n",
              "    .colab-df-buttons div {\n",
              "      margin-bottom: 4px;\n",
              "    }\n",
              "\n",
              "    [theme=dark] .colab-df-convert {\n",
              "      background-color: #3B4455;\n",
              "      fill: #D2E3FC;\n",
              "    }\n",
              "\n",
              "    [theme=dark] .colab-df-convert:hover {\n",
              "      background-color: #434B5C;\n",
              "      box-shadow: 0px 1px 3px 1px rgba(0, 0, 0, 0.15);\n",
              "      filter: drop-shadow(0px 1px 2px rgba(0, 0, 0, 0.3));\n",
              "      fill: #FFFFFF;\n",
              "    }\n",
              "  </style>\n",
              "\n",
              "    <script>\n",
              "      const buttonEl =\n",
              "        document.querySelector('#df-3e5ae179-6b11-431f-af21-5f83df190f98 button.colab-df-convert');\n",
              "      buttonEl.style.display =\n",
              "        google.colab.kernel.accessAllowed ? 'block' : 'none';\n",
              "\n",
              "      async function convertToInteractive(key) {\n",
              "        const element = document.querySelector('#df-3e5ae179-6b11-431f-af21-5f83df190f98');\n",
              "        const dataTable =\n",
              "          await google.colab.kernel.invokeFunction('convertToInteractive',\n",
              "                                                    [key], {});\n",
              "        if (!dataTable) return;\n",
              "\n",
              "        const docLinkHtml = 'Like what you see? Visit the ' +\n",
              "          '<a target=\"_blank\" href=https://colab.research.google.com/notebooks/data_table.ipynb>data table notebook</a>'\n",
              "          + ' to learn more about interactive tables.';\n",
              "        element.innerHTML = '';\n",
              "        dataTable['output_type'] = 'display_data';\n",
              "        await google.colab.output.renderOutput(dataTable, element);\n",
              "        const docLink = document.createElement('div');\n",
              "        docLink.innerHTML = docLinkHtml;\n",
              "        element.appendChild(docLink);\n",
              "      }\n",
              "    </script>\n",
              "  </div>\n",
              "\n",
              "\n",
              "<div id=\"df-a4a2b54a-dfcd-4712-881b-e12514be9b02\">\n",
              "  <button class=\"colab-df-quickchart\" onclick=\"quickchart('df-a4a2b54a-dfcd-4712-881b-e12514be9b02')\"\n",
              "            title=\"Suggest charts.\"\n",
              "            style=\"display:none;\">\n",
              "\n",
              "<svg xmlns=\"http://www.w3.org/2000/svg\" height=\"24px\"viewBox=\"0 0 24 24\"\n",
              "     width=\"24px\">\n",
              "    <g>\n",
              "        <path d=\"M19 3H5c-1.1 0-2 .9-2 2v14c0 1.1.9 2 2 2h14c1.1 0 2-.9 2-2V5c0-1.1-.9-2-2-2zM9 17H7v-7h2v7zm4 0h-2V7h2v10zm4 0h-2v-4h2v4z\"/>\n",
              "    </g>\n",
              "</svg>\n",
              "  </button>\n",
              "\n",
              "<style>\n",
              "  .colab-df-quickchart {\n",
              "      --bg-color: #E8F0FE;\n",
              "      --fill-color: #1967D2;\n",
              "      --hover-bg-color: #E2EBFA;\n",
              "      --hover-fill-color: #174EA6;\n",
              "      --disabled-fill-color: #AAA;\n",
              "      --disabled-bg-color: #DDD;\n",
              "  }\n",
              "\n",
              "  [theme=dark] .colab-df-quickchart {\n",
              "      --bg-color: #3B4455;\n",
              "      --fill-color: #D2E3FC;\n",
              "      --hover-bg-color: #434B5C;\n",
              "      --hover-fill-color: #FFFFFF;\n",
              "      --disabled-bg-color: #3B4455;\n",
              "      --disabled-fill-color: #666;\n",
              "  }\n",
              "\n",
              "  .colab-df-quickchart {\n",
              "    background-color: var(--bg-color);\n",
              "    border: none;\n",
              "    border-radius: 50%;\n",
              "    cursor: pointer;\n",
              "    display: none;\n",
              "    fill: var(--fill-color);\n",
              "    height: 32px;\n",
              "    padding: 0;\n",
              "    width: 32px;\n",
              "  }\n",
              "\n",
              "  .colab-df-quickchart:hover {\n",
              "    background-color: var(--hover-bg-color);\n",
              "    box-shadow: 0 1px 2px rgba(60, 64, 67, 0.3), 0 1px 3px 1px rgba(60, 64, 67, 0.15);\n",
              "    fill: var(--button-hover-fill-color);\n",
              "  }\n",
              "\n",
              "  .colab-df-quickchart-complete:disabled,\n",
              "  .colab-df-quickchart-complete:disabled:hover {\n",
              "    background-color: var(--disabled-bg-color);\n",
              "    fill: var(--disabled-fill-color);\n",
              "    box-shadow: none;\n",
              "  }\n",
              "\n",
              "  .colab-df-spinner {\n",
              "    border: 2px solid var(--fill-color);\n",
              "    border-color: transparent;\n",
              "    border-bottom-color: var(--fill-color);\n",
              "    animation:\n",
              "      spin 1s steps(1) infinite;\n",
              "  }\n",
              "\n",
              "  @keyframes spin {\n",
              "    0% {\n",
              "      border-color: transparent;\n",
              "      border-bottom-color: var(--fill-color);\n",
              "      border-left-color: var(--fill-color);\n",
              "    }\n",
              "    20% {\n",
              "      border-color: transparent;\n",
              "      border-left-color: var(--fill-color);\n",
              "      border-top-color: var(--fill-color);\n",
              "    }\n",
              "    30% {\n",
              "      border-color: transparent;\n",
              "      border-left-color: var(--fill-color);\n",
              "      border-top-color: var(--fill-color);\n",
              "      border-right-color: var(--fill-color);\n",
              "    }\n",
              "    40% {\n",
              "      border-color: transparent;\n",
              "      border-right-color: var(--fill-color);\n",
              "      border-top-color: var(--fill-color);\n",
              "    }\n",
              "    60% {\n",
              "      border-color: transparent;\n",
              "      border-right-color: var(--fill-color);\n",
              "    }\n",
              "    80% {\n",
              "      border-color: transparent;\n",
              "      border-right-color: var(--fill-color);\n",
              "      border-bottom-color: var(--fill-color);\n",
              "    }\n",
              "    90% {\n",
              "      border-color: transparent;\n",
              "      border-bottom-color: var(--fill-color);\n",
              "    }\n",
              "  }\n",
              "</style>\n",
              "\n",
              "  <script>\n",
              "    async function quickchart(key) {\n",
              "      const quickchartButtonEl =\n",
              "        document.querySelector('#' + key + ' button');\n",
              "      quickchartButtonEl.disabled = true;  // To prevent multiple clicks.\n",
              "      quickchartButtonEl.classList.add('colab-df-spinner');\n",
              "      try {\n",
              "        const charts = await google.colab.kernel.invokeFunction(\n",
              "            'suggestCharts', [key], {});\n",
              "      } catch (error) {\n",
              "        console.error('Error during call to suggestCharts:', error);\n",
              "      }\n",
              "      quickchartButtonEl.classList.remove('colab-df-spinner');\n",
              "      quickchartButtonEl.classList.add('colab-df-quickchart-complete');\n",
              "    }\n",
              "    (() => {\n",
              "      let quickchartButtonEl =\n",
              "        document.querySelector('#df-a4a2b54a-dfcd-4712-881b-e12514be9b02 button');\n",
              "      quickchartButtonEl.style.display =\n",
              "        google.colab.kernel.accessAllowed ? 'block' : 'none';\n",
              "    })();\n",
              "  </script>\n",
              "</div>\n",
              "\n",
              "    </div>\n",
              "  </div>\n"
            ]
          },
          "metadata": {},
          "execution_count": 66
        }
      ],
      "source": [
        "train_data = pd.read_csv('train.csv')\n",
        "test_data = pd.read_csv('test.csv')\n",
        "train_data = train_data[['summary', 'reviewText', 'overall', 'verified', 'category']]\n",
        "test_data = test_data[['summary', 'reviewText', 'id', 'verified', 'category']]\n",
        "\n",
        "## convert to str\n",
        "train_data['verified'] = train_data['verified'].apply(lambda x: \"true\" if x else \"false\")\n",
        "test_data['verified'] = test_data['verified'].apply(lambda x: \"true\" if x else \"false\")\n",
        "\n",
        "## text features\n",
        "important_text_features_train = train_data[\"reviewText\"].fillna('') + ' ' +  train_data[\"summary\"].fillna('') + ' ' + train_data[\"verified\"].fillna('') + ' ' + train_data[\"category\"].fillna('')\n",
        "important_text_features_test = test_data[\"reviewText\"].fillna('') + ' '+ test_data[\"summary\"].fillna('') + test_data[\"verified\"].fillna('') + ' ' + test_data[\"category\"].fillna('')\n",
        "\n",
        "target_label = train_data['overall'].apply(lambda f: 1 if f > 3 else 0)\n",
        "train_data.head()\n"
      ]
    },
    {
      "cell_type": "markdown",
      "source": [
        "# **Preprocessing Text**"
      ],
      "metadata": {
        "id": "ARhJ17B7lkWJ"
      }
    },
    {
      "cell_type": "code",
      "execution_count": null,
      "metadata": {
        "colab": {
          "base_uri": "https://localhost:8080/"
        },
        "id": "hRhAP8IDx77m",
        "outputId": "1a039845-e4b1-4d78-aece-2309a3f5aa8a"
      },
      "outputs": [
        {
          "output_type": "stream",
          "name": "stderr",
          "text": [
            "[nltk_data] Downloading package punkt to /root/nltk_data...\n",
            "[nltk_data]   Package punkt is already up-to-date!\n",
            "[nltk_data] Downloading package wordnet to /root/nltk_data...\n",
            "[nltk_data]   Package wordnet is already up-to-date!\n"
          ]
        }
      ],
      "source": [
        "import os\n",
        "import string\n",
        "import pandas as pd\n",
        "import nltk\n",
        "from nltk.corpus import stopwords\n",
        "from nltk.tokenize import word_tokenize\n",
        "from nltk.stem import WordNetLemmatizer, PorterStemmer\n",
        "\n",
        "nltk.download('punkt')\n",
        "nltk.download('wordnet')\n",
        "lemmatizer = WordNetLemmatizer()\n",
        "stemmer = PorterStemmer()\n",
        "\n",
        "def clean_text(text):\n",
        "    text = text.lower()\n",
        "    translator = str.maketrans('', '', string.punctuation)\n",
        "    text = text.translate(translator)\n",
        "    return text\n",
        "\n",
        "def tokenize(text):\n",
        "    return word_tokenize(text)\n",
        "\n",
        "def lemmatize(tokens):\n",
        "    return [lemmatizer.lemmatize(token) for token in tokens]\n",
        "\n",
        "def stem(tokens):\n",
        "    return [stemmer.stem(token) for token in tokens]\n",
        "\n",
        "def clean_text_features(text_features):\n",
        "    cleaned_features = []\n",
        "    for feature in text_features:\n",
        "        text = clean_text(feature)\n",
        "        tokens = tokenize(text)\n",
        "        tokens = lemmatize(tokens)\n",
        "        tokens = stem(tokens)\n",
        "        cleaned_features.append(' '.join(tokens))\n",
        "    return cleaned_features\n",
        "\n",
        "important_text_features_train = clean_text_features(important_text_features_train)\n",
        "important_text_features_test = clean_text_features(important_text_features_test)\n"
      ]
    },
    {
      "cell_type": "markdown",
      "metadata": {
        "id": "L-b5O4hC9-9o"
      },
      "source": [
        "# **tfidf vectorization on text features**"
      ]
    },
    {
      "cell_type": "code",
      "execution_count": null,
      "metadata": {
        "id": "P3XNOVvrMcgK"
      },
      "outputs": [],
      "source": [
        "# better without removing stop words\n",
        "vectorizer = TfidfVectorizer(\n",
        "    ngram_range = (1, 2),\n",
        ")\n",
        "train_text_features = vectorizer.fit_transform(important_text_features_train)\n",
        "test_text_features = vectorizer.transform(important_text_features_test)\n",
        "train_set,validation_set, train_target, validation_target = train_test_split(train_text_features, target_label, test_size = 0.2, random_state = 27)"
      ]
    },
    {
      "cell_type": "markdown",
      "source": [
        "# **Logistic Regression Model**"
      ],
      "metadata": {
        "id": "VqEDgBgomVhd"
      }
    },
    {
      "cell_type": "code",
      "execution_count": null,
      "metadata": {
        "id": "XQH4_X76N_gW",
        "colab": {
          "base_uri": "https://localhost:8080/"
        },
        "outputId": "5791e804-feb8-4dea-986b-06e0431afc21"
      },
      "outputs": [
        {
          "output_type": "stream",
          "name": "stdout",
          "text": [
            "best grid parameters {'C': 5.0, 'max_iter': 1000, 'solver': 'saga'}\n",
            "Confusion Matrix:  [[3384  230]\n",
            " [ 486 1738]] \n",
            "roc_auc:  0.8589167127836193 \n",
            "accuracy:  0.8773552586502227 \n",
            "f1_score:  0.8291984732824428\n",
            "0    2833\n",
            "1    1667\n",
            "Name: preds, dtype: int64\n"
          ]
        }
      ],
      "source": [
        "from sklearn.linear_model import LogisticRegression\n",
        "\n",
        "logReg = LogisticRegression()\n",
        "\n",
        "# parameter tuning\n",
        "parameters = {\n",
        "    \"max_iter\": [850, 1000],\n",
        "    \"C\": [3.5, 4.0,  5.0],\n",
        "      \"solver\": [\"lbfgs\", \"saga\"]\n",
        "}\n",
        "\n",
        "## search for best params\n",
        "grid_search = GridSearchCV(logReg, parameters, cv = 5, scoring=\"f1_macro\")\n",
        "grid_search.fit(train_set, train_target)\n",
        "best_params = grid_search.best_params_\n",
        "print('best grid parameters', best_params)\n",
        "\n",
        "## retrain model using the best params and evaluating its performance\n",
        "best_logReg = LogisticRegression(C=best_params[\"C\"], max_iter=best_params[\"max_iter\"], solver=best_params[\"solver\"])\n",
        "best_logReg.fit(train_set, train_target)\n",
        "validation_pred = best_logReg.predict(validation_set)\n",
        "evaluationMetrics(validation_target, validation_pred)\n",
        "\n",
        "## predict test and save data\n",
        "test_predicted = best_logReg.predict(test_text_features)\n",
        "logReg_submission = {'preds': test_predicted, 'id':test_data['id']}\n",
        "logReg_submission_df = pd.DataFrame(logReg_submission)\n",
        "print(logReg_submission_df['preds'].value_counts())\n",
        "logReg_submission_df.to_csv('logReg_submission.csv', index=False)\n"
      ]
    },
    {
      "cell_type": "markdown",
      "source": [
        "# **Naive Bayes Model**"
      ],
      "metadata": {
        "id": "p2GbHU1tmcIg"
      }
    },
    {
      "cell_type": "code",
      "source": [
        "import pandas as pd\n",
        "from sklearn.model_selection import GridSearchCV, cross_val_score\n",
        "from sklearn.naive_bayes import MultinomialNB\n",
        "from sklearn.metrics import f1_score\n",
        "\n",
        "# parameter tuning\n",
        "param_grid = {\n",
        "    'alpha': [0.1, 0.2, 0.3, 0.4]\n",
        "}\n",
        "\n",
        "## search for best params\n",
        "naive_bayes = MultinomialNB()\n",
        "grid_search = GridSearchCV(estimator=naive_bayes, param_grid=param_grid, cv=5, scoring='f1', n_jobs=-1)\n",
        "grid_search.fit(train_set, train_target)\n",
        "best_params = grid_search.best_params_\n",
        "print('best grid parameters', best_params)\n",
        "\n",
        "## retrain model using the best params and evaluating its performance\n",
        "best_NB = MultinomialNB(alpha=best_params['alpha'])\n",
        "best_NB.fit(train_set, train_target)\n",
        "validation_pred = best_NB.predict(validation_set)\n",
        "evaluationMetrics(validation_target, validation_pred)\n",
        "\n",
        "# predict test classes and save the results to a CSV file\n",
        "test_predicted = best_NB.predict(test_text_features)\n",
        "first_submission = {'preds': test_predicted, 'id': test_data['id']}\n",
        "first_submission_df = pd.DataFrame(first_submission)\n",
        "print(first_submission_df['preds'].value_counts())\n",
        "first_submission_df.to_csv('nb_submission.csv', index=False)"
      ],
      "metadata": {
        "colab": {
          "base_uri": "https://localhost:8080/"
        },
        "id": "DV8l60iobKAK",
        "outputId": "766faa40-92f4-49c0-e23e-5b74ba473fc7"
      },
      "execution_count": null,
      "outputs": [
        {
          "output_type": "stream",
          "name": "stdout",
          "text": [
            "best grid parameters {'alpha': 0.1}\n",
            "Confusion Matrix:  [[3469  145]\n",
            " [ 837 1387]] \n",
            "roc_auc:  0.7917646651909243 \n",
            "accuracy:  0.8317917094895512 \n",
            "f1_score:  0.7385516506922257\n",
            "0    3543\n",
            "1     957\n",
            "Name: preds, dtype: int64\n"
          ]
        }
      ]
    },
    {
      "cell_type": "code",
      "source": [
        "perceptron = Perceptron()\n",
        "param_grid = {\n",
        "    'alpha': [0.1, 0.2, 0.3, 0.5, 1],\n",
        "    'max_iter': [850, 1000, 2000],\n",
        "}\n",
        "\n",
        "## search for best params\n",
        "grid_search = GridSearchCV(perceptron, param_grid, cv=15, scoring='f1_macro', n_jobs=-1)\n",
        "grid_search.fit(train_set, train_target)\n",
        "best_params = grid_search.best_params_\n",
        "print(best_params)\n",
        "\n",
        "## retrain model using the best params and evaluating its performance\n",
        "best_perceptron = Perceptron(alpha=best_params[\"alpha\"], max_iter=best_params[\"max_iter\"])\n",
        "best_perceptron.fit(train_set, train_target)\n",
        "val_predicted = best_perceptron.predict(validation_set)\n",
        "evaluationMetrics(validation_target, val_predicted)\n",
        "\n",
        "# predict test classes and save the results to a CSV file\n",
        "test_predicted = best_perceptron.predict(test_text_features)\n",
        "submission_data = {'preds': test_predicted, 'id': test_data['id']}\n",
        "submission_df = pd.DataFrame(submission_data)\n",
        "print(submission_df['preds'].value_counts())\n",
        "submission_df.to_csv('perceptron_submission.csv', index=False)"
      ],
      "metadata": {
        "colab": {
          "base_uri": "https://localhost:8080/"
        },
        "id": "HsifbgYAnesV",
        "outputId": "f1ea63c0-b683-46c5-f66c-62c420a2e83f"
      },
      "execution_count": null,
      "outputs": [
        {
          "output_type": "stream",
          "name": "stdout",
          "text": [
            "{'alpha': 0.1, 'max_iter': 850}\n",
            "Confusion Matrix:  [[3095  519]\n",
            " [ 302 1922]] \n",
            "roc_auc:  0.8603002213613724 \n",
            "accuracy:  0.8593696471394313 \n",
            "f1_score:  0.8240085744908895\n",
            "0    2528\n",
            "1    1972\n",
            "Name: preds, dtype: int64\n"
          ]
        }
      ]
    },
    {
      "cell_type": "markdown",
      "source": [
        "# **Preprocessing for Sentiment Analysis**"
      ],
      "metadata": {
        "id": "-Lpl3OSVmj-h"
      }
    },
    {
      "cell_type": "code",
      "execution_count": null,
      "metadata": {
        "id": "_o4TSGi-nymA",
        "colab": {
          "base_uri": "https://localhost:8080/"
        },
        "outputId": "d18765b5-35b3-4582-9637-0e2acb9b0252"
      },
      "outputs": [
        {
          "output_type": "stream",
          "name": "stdout",
          "text": [
            "sentence all of the review for thi product are fake all fake review bewar fals automot \n",
            " {'neg': 0.323, 'neu': 0.677, 'pos': 0.0, 'compound': -0.7351}\n"
          ]
        }
      ],
      "source": [
        "from posixpath import split\n",
        "from vaderSentiment.vaderSentiment import SentimentIntensityAnalyzer\n",
        "from sklearn.preprocessing import StandardScaler\n",
        "\n",
        "vectorizer = TfidfVectorizer(\n",
        "    ngram_range = (1, 2)\n",
        ")\n",
        "\n",
        "train_text_features_SA = vectorizer.fit_transform(important_text_features_train)\n",
        "test_text_features_SA = vectorizer.transform(important_text_features_test)\n",
        "\n",
        "## get scores for the sentiment analyzer\n",
        "sentiment_analyzer = SentimentIntensityAnalyzer()\n",
        "train_features_SA = pd.DataFrame([sentiment_analyzer.polarity_scores(feature) for feature in important_text_features_train])\n",
        "test_features_SA = pd.DataFrame([sentiment_analyzer.polarity_scores(feature) for feature in important_text_features_test])\n",
        "\n",
        "print('sentence', important_text_features_train[0], '\\n', sentiment_analyzer.polarity_scores(important_text_features_train[0]))\n",
        "\n",
        "# combine tfidf and sentiment analyzer data\n",
        "X_train_combined = hstack([train_text_features_SA, train_features_SA])\n",
        "X_test_combined = hstack([test_text_features_SA, test_features_SA])\n",
        "\n",
        "x_sa_train, x_sa_validation, y_sa_target_train, y_sa_target_validation = train_test_split(X_train_combined, target_label, test_size=0.2, random_state=27)\n"
      ]
    },
    {
      "cell_type": "markdown",
      "source": [
        "# **Sentiment Analysis + Regression Model**"
      ],
      "metadata": {
        "id": "cQPfawATnPPs"
      }
    },
    {
      "cell_type": "code",
      "execution_count": null,
      "metadata": {
        "id": "nJ4YR1fcfMWH",
        "colab": {
          "base_uri": "https://localhost:8080/"
        },
        "outputId": "6b74a0c7-e8f3-4b23-b1e3-27447b60146c"
      },
      "outputs": [
        {
          "output_type": "stream",
          "name": "stdout",
          "text": [
            "{'C': 5, 'max_iter': 2000, 'solver': 'saga'}\n"
          ]
        }
      ],
      "source": [
        "from imblearn.over_sampling import RandomOverSampler\n",
        "\n",
        "param_grid = {\n",
        "    'C': [3.5, 4, 5],\n",
        "    'max_iter': [2000],\n",
        "    'solver': ['saga', 'lbfgs']\n",
        "}\n",
        "logReg = LogisticRegression()\n",
        "\n",
        "## search for best params\n",
        "grid_search = GridSearchCV(logReg, param_grid, cv=5, scoring='f1_macro')\n",
        "grid_search.fit(x_sa_train, y_sa_target_train)\n",
        "best_params = grid_search.best_params_\n",
        "print(best_params)\n",
        "\n",
        "## retrain model using the best params and evaluating its performance\n",
        "best_sa_logReg = LogisticRegression(C=best_params[\"C\"], max_iter=best_params[\"max_iter\"], solver=best_params[\"solver\"])\n",
        "best_sa_logReg.fit(x_sa_train, y_sa_target_train)\n",
        "y_pred = best_sa_logReg.predict(x_sa_validation)\n",
        "evaluationMetrics(y_sa_target_validation, y_pred)\n",
        "\n",
        "# predict test classes and save the results to a CSV file\n",
        "test_predicted = best_sa_logReg.predict(X_test_combined)\n",
        "submission_data = {'preds': test_predicted, 'id': test_data['id']}\n",
        "submission_df = pd.DataFrame(submission_data)\n",
        "print(submission_df['preds'].value_counts())\n",
        "submission_df.to_csv('log_sa_submission.csv', index=False)"
      ]
    },
    {
      "cell_type": "markdown",
      "source": [
        "# **Sentiment Analysis + Perceptron**"
      ],
      "metadata": {
        "id": "EsP4z8Qu4V1Z"
      }
    },
    {
      "cell_type": "code",
      "source": [
        "perceptron = Perceptron()\n",
        "param_grid = {\n",
        "    'alpha': [0.1, 0.2, 0.3, 0.4],\n",
        "    'max_iter': [2000, 3000],\n",
        "}\n",
        "\n",
        "\n",
        "grid_search = GridSearchCV(perceptron, param_grid, cv=15, scoring='f1_macro', n_jobs=-1)\n",
        "\n",
        "grid_search.fit(x_sa_train, y_sa_target_train)\n",
        "best_params = grid_search.best_params_\n",
        "print(best_params)\n",
        "\n",
        "# best model search\n",
        "best_perceptron = Perceptron(alpha=best_params[\"alpha\"], max_iter=best_params[\"max_iter\"])\n",
        "best_perceptron.fit(x_sa_train, y_sa_target_train)\n",
        "val_predicted = best_perceptron.predict(x_sa_validation)\n",
        "evaluationMetrics(validation_target, val_predicted)\n",
        "test_predicted = best_perceptron.predict(X_test_combined)\n",
        "\n",
        "\n",
        "submission_data = {'preds': test_predicted, 'id': test_data['id']}\n",
        "submission_df = pd.DataFrame(submission_data)\n",
        "print(submission_df['preds'].value_counts())\n",
        "submission_df.to_csv('perceptron_SA_submission.csv', index=False)"
      ],
      "metadata": {
        "colab": {
          "base_uri": "https://localhost:8080/"
        },
        "id": "dDo6font4U3R",
        "outputId": "b7e66630-ef36-40c6-8408-a2af1675f68f"
      },
      "execution_count": null,
      "outputs": [
        {
          "output_type": "stream",
          "name": "stdout",
          "text": [
            "{'alpha': 0.1, 'max_iter': 2000}\n",
            "Confusion Matrix:  [[3098  516]\n",
            " [ 270 1954]] \n",
            "roc_auc:  0.8679095185390149 \n",
            "accuracy:  0.8653648509763617 \n",
            "f1_score:  0.8325521942905837\n",
            "0    2579\n",
            "1    1921\n",
            "Name: preds, dtype: int64\n"
          ]
        }
      ]
    },
    {
      "cell_type": "markdown",
      "source": [
        "# **Sentiment Analysis + Naive Bayes**"
      ],
      "metadata": {
        "id": "LHDEibZ55lxO"
      }
    },
    {
      "cell_type": "code",
      "source": [
        "import pandas as pd\n",
        "from sklearn.model_selection import GridSearchCV, cross_val_score\n",
        "from sklearn.naive_bayes import MultinomialNB\n",
        "from sklearn.metrics import f1_score\n",
        "\n",
        "# Define your parameter grid for GridSearchCV\n",
        "param_grid = {\n",
        "    'alpha': [0.1, 0.2, 0.3, 0.4]\n",
        "}\n",
        "\n",
        "# search best parameters\n",
        "naive_bayes = MultinomialNB()\n",
        "grid_search = GridSearchCV(estimator=naive_bayes, param_grid=param_grid, cv=5, scoring='f1', n_jobs=-1)\n",
        "grid_search.fit(abs(x_sa_train),  y_sa_target_train)\n",
        "best_params = grid_search.best_params_\n",
        "print('best grid parameters', best_params)\n",
        "\n",
        "## predict using the best classifier\n",
        "best_NB = MultinomialNB(alpha=best_params['alpha'])\n",
        "best_NB.fit(abs(x_sa_train), y_sa_target_train)\n",
        "validation_pred = best_NB.predict(abs(x_sa_validation))\n",
        "evaluationMetrics(validation_target, validation_pred)\n",
        "\n",
        "# Save the results to a CSV file\n",
        "test_predicted = best_NB.predict(abs(X_test_combined))\n",
        "first_submission = {'preds': test_predicted, 'id': test_data['id']}\n",
        "first_submission_df = pd.DataFrame(first_submission)\n",
        "print(first_submission_df['preds'].value_counts())\n",
        "first_submission_df.to_csv('nb_sa_submission.csv', index=False)"
      ],
      "metadata": {
        "colab": {
          "base_uri": "https://localhost:8080/"
        },
        "id": "sh5nBKwU5kWI",
        "outputId": "58ab0608-ff4f-4a7c-b19e-3e250c41bfd6"
      },
      "execution_count": null,
      "outputs": [
        {
          "output_type": "stream",
          "name": "stdout",
          "text": [
            "best grid parameters {'alpha': 0.1}\n",
            "Confusion Matrix:  [[3473  141]\n",
            " [ 819 1405]] \n",
            "roc_auc:  0.7963648312119536 \n",
            "accuracy:  0.8355601233299075 \n",
            "f1_score:  0.7453580901856764\n",
            "0    3549\n",
            "1     951\n",
            "Name: preds, dtype: int64\n"
          ]
        }
      ]
    }
  ],
  "metadata": {
    "colab": {
      "provenance": [],
      "authorship_tag": "ABX9TyMJ26MvLezI+t+thxcAfAPu",
      "include_colab_link": true
    },
    "kernelspec": {
      "display_name": "Python 3",
      "name": "python3"
    },
    "language_info": {
      "name": "python"
    }
  },
  "nbformat": 4,
  "nbformat_minor": 0
}