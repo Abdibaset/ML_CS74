{
  "cells": [
    {
      "cell_type": "markdown",
      "metadata": {
        "id": "view-in-github",
        "colab_type": "text"
      },
      "source": [
        "<a href=\"https://colab.research.google.com/github/Abdibaset/ML_CS74/blob/main/HW3.ipynb\" target=\"_parent\"><img src=\"https://colab.research.google.com/assets/colab-badge.svg\" alt=\"Open In Colab\"/></a>"
      ]
    },
    {
      "cell_type": "markdown",
      "source": [
        "# HW3\n"
      ],
      "metadata": {
        "id": "T4QpN207Fg5a"
      }
    },
    {
      "cell_type": "code",
      "source": [
        "from google.colab import drive\n",
        "drive.mount('/content/drive')"
      ],
      "metadata": {
        "colab": {
          "base_uri": "https://localhost:8080/"
        },
        "id": "NqZAoosxiApV",
        "outputId": "cd301e14-0814-4a70-8fa1-f368665e4519"
      },
      "execution_count": 79,
      "outputs": [
        {
          "output_type": "stream",
          "name": "stdout",
          "text": [
            "Drive already mounted at /content/drive; to attempt to forcibly remount, call drive.mount(\"/content/drive\", force_remount=True).\n"
          ]
        }
      ]
    },
    {
      "cell_type": "markdown",
      "metadata": {
        "id": "7flPLB_W_pRw"
      },
      "source": [
        "Please run the cell below to import libraries needed for this HW. Please use the autograd numpy, otherwise you will have issues. Please remember to always use the np library for mathematical functions (e.g., np.log, np.exp, np.sum, etc)"
      ]
    },
    {
      "cell_type": "code",
      "execution_count": 80,
      "metadata": {
        "id": "52dyLKp8_pRx"
      },
      "outputs": [],
      "source": [
        "import autograd.numpy as np\n",
        "from autograd import grad\n",
        "import matplotlib.pyplot as plt\n",
        "%matplotlib inline"
      ]
    },
    {
      "cell_type": "markdown",
      "metadata": {
        "id": "v8UJtvmB_pRy"
      },
      "source": [
        "Q1) [5 points] Implement the sigmod funcation discussed in class. The function takes a value, x, as input and returns the sigmoid function applied to the value."
      ]
    },
    {
      "cell_type": "code",
      "execution_count": 81,
      "metadata": {
        "id": "LKNQLImi_pRy"
      },
      "outputs": [],
      "source": [
        "def sigmoid(x):\n",
        "  return np.array(1/(1+np.exp(-x)))"
      ]
    },
    {
      "cell_type": "markdown",
      "metadata": {
        "id": "X-ft-9-B_pRy"
      },
      "source": [
        "Q2) [20 points] Implement the logistic regression model and the cross entropy cost discussed in class. Note that the logistic regression model relies on the sigmoid function (which you have implemented above) and the linear  model (which you have implemented in HW2). You can use the linear model from HW2 for this problem. Similar to the least-squares cost from HW2, the cross entropy cost takes in as input an array of weights, w, an array of x's and an array of ys and return a float indicating the total cost."
      ]
    },
    {
      "cell_type": "code",
      "execution_count": 82,
      "metadata": {
        "id": "FxFHCq6A_pRy"
      },
      "outputs": [],
      "source": [
        "#Your linear model from HW2\n",
        "def model(x,w):\n",
        "  return w[0] + w[1]*x\n",
        "\n",
        "#The logistic regression cross entropy cost\n",
        "def cross_entropy(w,x,y):\n",
        "  model_output = model(x, w)\n",
        "  class_one = y*np.log(sigmoid(model_output))\n",
        "  class_two = (1-y)*np.log(1-sigmoid(model_output))\n",
        "  return -np.mean(class_one + class_two)"
      ]
    },
    {
      "cell_type": "markdown",
      "metadata": {
        "id": "fb6514tF_pRy"
      },
      "source": [
        "Run the code below to read a data file and plot a scatter plot of x vs y."
      ]
    },
    {
      "cell_type": "code",
      "execution_count": 83,
      "metadata": {
        "id": "IflAu39E_pRy",
        "colab": {
          "base_uri": "https://localhost:8080/",
          "height": 447
        },
        "outputId": "b1d78889-3bd7-4dda-fcf1-7d3ee6f42bcd"
      },
      "outputs": [
        {
          "output_type": "execute_result",
          "data": {
            "text/plain": [
              "<matplotlib.collections.PathCollection at 0x78016293cee0>"
            ]
          },
          "metadata": {},
          "execution_count": 83
        },
        {
          "output_type": "display_data",
          "data": {
            "text/plain": [
              "<Figure size 640x480 with 1 Axes>"
            ],
            "image/png": "[encoded data removed]"
          },
          "metadata": {}
        }
      ],
      "source": [
        "csvname = '2d_classification_data_v1_entropy.csv'\n",
        "data = np.loadtxt(csvname,delimiter = ',')\n",
        "x_classification_data = data[:-1,:]\n",
        "y_classification_data = data[-1:,:]\n",
        "\n",
        "plt.scatter(x_classification_data,y_classification_data)"
      ]
    },
    {
      "cell_type": "markdown",
      "metadata": {
        "id": "OTVuxR0r_pRy"
      },
      "source": [
        "Q3) [10 points] Move the gradient descent function from HW2. Run the function using the cross_entropy cost and the x and y from above. The parameters should be set to: max_its=2000,w=[3.0,3.0 ], and alpha=1. Save the cost and weight history returned by the gradient descent function. Plot the cost history.\n"
      ]
    },
    {
      "cell_type": "code",
      "execution_count": 84,
      "metadata": {
        "id": "Uh_STKBu_pRy"
      },
      "outputs": [],
      "source": [
        "##gradient descent from HW2\n",
        "def gradient_descent(g,alpha,max_its,w,x,y):\n",
        "    gradient = grad(g)   ## This is how you use the autograd library to find the gradient of a function\n",
        "    weight_history = [w]\n",
        "    w, x, y = np.array(w), np.array(x), np.array(y)\n",
        "    cost_history = [g(w, x, y)]\n",
        "    for i in range(1, max_its):\n",
        "      # print(np.array(gradient(weight_history[i-1], x, y)))\n",
        "      curr_weight = weight_history[i-1]- alpha*np.array(gradient(weight_history[i-1], x, y))\n",
        "      weight_history.append(curr_weight)\n",
        "      cost_history.append(g(weight_history[i], x, y))\n",
        "    return weight_history,cost_history\n"
      ]
    },
    {
      "cell_type": "code",
      "execution_count": 85,
      "metadata": {
        "id": "ddCJ7iBZ_pRz",
        "colab": {
          "base_uri": "https://localhost:8080/",
          "height": 489
        },
        "outputId": "f183f7f0-b57e-4bb6-b3e9-7199104a4d0c"
      },
      "outputs": [
        {
          "output_type": "execute_result",
          "data": {
            "text/plain": [
              "Text(0.5, 1.0, 'cost_history against number of steps for classification data')"
            ]
          },
          "metadata": {},
          "execution_count": 85
        },
        {
          "output_type": "display_data",
          "data": {
            "text/plain": [
              "<Figure size 640x480 with 1 Axes>"
            ],
            "image/png": "[encoded data removed]"
          },
          "metadata": {}
        }
      ],
      "source": [
        "##Call the gradient_descent function here\n",
        "##Plot the cost history here\n",
        "\n",
        "alpha = 1\n",
        "max_its = 1500\n",
        "weights = [3.0, 3.0]\n",
        "weight_history, cost_history = gradient_descent(cross_entropy, alpha, max_its, weights, x_classification_data, y_classification_data)\n",
        "plt.plot(cost_history)\n",
        "plt.xlabel('steps')\n",
        "plt.ylabel('log loss')\n",
        "plt.title('cost_history against number of steps for classification data')"
      ]
    },
    {
      "cell_type": "markdown",
      "metadata": {
        "id": "xBgikNKF_pRz"
      },
      "source": [
        "Q4) [10 points] Implement a logistic regression classifier that takes in the learned weights and x as input and returns the probability of the positive class (note that this is just the output of the sigmoid applied to the linear combination of the x and w)"
      ]
    },
    {
      "cell_type": "code",
      "execution_count": 86,
      "metadata": {
        "id": "958J3ZPY_pRz"
      },
      "outputs": [],
      "source": [
        "def logistic_regression(learned_w,x):\n",
        "  return sigmoid(model(x, learned_w))"
      ]
    },
    {
      "cell_type": "markdown",
      "metadata": {
        "id": "dRqczx_B_pRz"
      },
      "source": [
        "Q5) [5 points] Use the learned weights from the last gradient descent run and the logistic regression function implemented above to plot the learned curve. You can use the linspace method (shown below) to generate a list of xs that you can use. You need to generate a y for each of the candidate xs using the logistic regression function and the learned weights. On the same figure, also plot the scatter plot from Q2.\n"
      ]
    },
    {
      "cell_type": "code",
      "execution_count": 87,
      "metadata": {
        "id": "CNMBKyh8_pRz",
        "colab": {
          "base_uri": "https://localhost:8080/",
          "height": 447
        },
        "outputId": "ac8c00c9-1983-45b5-8f3c-5d03ec7b8022"
      },
      "outputs": [
        {
          "output_type": "execute_result",
          "data": {
            "text/plain": [
              "[<matplotlib.lines.Line2D at 0x78016283d570>]"
            ]
          },
          "metadata": {},
          "execution_count": 87
        },
        {
          "output_type": "display_data",
          "data": {
            "text/plain": [
              "<Figure size 640x480 with 1 Axes>"
            ],
            "image/png": "[encoded data removed]"
          },
          "metadata": {}
        }
      ],
      "source": [
        "s = np.linspace(np.min(x_classification_data),np.max(x_classification_data))\n",
        "learned_weights = weight_history[cost_history.index(min(cost_history))]\n",
        "plt.scatter(x_classification_data, y_classification_data)\n",
        "plt.plot(s, logistic_regression(learned_weights, s))"
      ]
    },
    {
      "cell_type": "markdown",
      "metadata": {
        "id": "v46mI5OD_pRz"
      },
      "source": [
        "Q6) [5 points] Slightly modify the logistic regression model above so that it returns a 1 or 0 based on the specified threshold."
      ]
    },
    {
      "cell_type": "code",
      "execution_count": 88,
      "metadata": {
        "id": "h4Q_Rb89_pRz"
      },
      "outputs": [],
      "source": [
        "def logistic_regression_modified(learned_w,x, threshold):\n",
        "    if logistic_regression(learned_w, x) <= threshold:\n",
        "      return 0\n",
        "    else:\n",
        "      return 1"
      ]
    },
    {
      "cell_type": "markdown",
      "metadata": {
        "id": "Suo1vYlo_pRz"
      },
      "source": [
        "Q7) [15 points] Write a function (called evaluate) that takes in actual and predicted ys (for a binary classification problem) and return a confusion matrix and the accuracy. Use the modified logistic regression model and the evaluate function below to report the confusion matrix and accuracy for the x and y used for our training at a threshold of 0.5.  "
      ]
    },
    {
      "cell_type": "code",
      "execution_count": 89,
      "metadata": {
        "id": "L3FaIpHI_pR0",
        "colab": {
          "base_uri": "https://localhost:8080/"
        },
        "outputId": "ac5fa279-b14e-4f0d-bda8-9b2062f315e5"
      },
      "outputs": [
        {
          "output_type": "stream",
          "name": "stdout",
          "text": [
            "Confustion frequency:  [[0, 0], [1, 0]]\n",
            "accuracy: 1.0\n"
          ]
        }
      ],
      "source": [
        "def evaluate(y_actual,y_pred):\n",
        "    ## Your code here\n",
        "    false_positive = 0\n",
        "    false_negative = 0\n",
        "    true_positive = 0\n",
        "    true_negative = 0\n",
        "\n",
        "    if y_actual == y_pred:\n",
        "      if y_actual == 1 and y_pred == 1:\n",
        "        true_positive += 1\n",
        "      else:\n",
        "        true_negative += 1\n",
        "\n",
        "    if y_actual != y_pred:\n",
        "      if y_actual == 1 and y_pred == 0:\n",
        "        false_positive += 1\n",
        "      else:\n",
        "        false_negative += 1\n",
        "    accuracy = (true_positive + true_negative)/(false_positive + false_negative + true_positive + true_negative)\n",
        "    return false_positive, false_negative, true_positive, true_negative, accuracy\n",
        "\n",
        "learned_w = weight_history[cost_history.index(min(cost_history))]\n",
        "class_prob = [logistic_regression_modified(learned_w, data, 0.5) for data in x_classification_data[0]]\n",
        "fp, fn, tp, tn, accuracy = evaluate(y_classification_data[0].tolist(), class_prob)\n",
        "print('Confustion frequency: ', [[tp, fp], [tn, fn]])\n",
        "print('accuracy:', accuracy)"
      ]
    },
    {
      "cell_type": "markdown",
      "metadata": {
        "id": "ZVD4Z3Ub_pR0"
      },
      "source": [
        "Q8) [20 points] Implement the perceptron cost function from the class (the softmax version). Note that the perceptron cost also uses the linear model (the model function from question 2)."
      ]
    },
    {
      "cell_type": "code",
      "execution_count": 90,
      "metadata": {
        "id": "dxEGYSoP_pR0"
      },
      "outputs": [],
      "source": [
        "def perceptron_cost(w,x,y):\n",
        "  soft_cost_equation = 1 + np.exp(-y*model(x, w))\n",
        "  return np.mean(np.log(soft_cost_equation))"
      ]
    },
    {
      "cell_type": "markdown",
      "metadata": {
        "id": "lhYnvgTY_pR0"
      },
      "source": [
        "Q9) [10 points]\n",
        "* Run gradient descent function using the perceptron cost and the x and y from above and the parameters set to: max_its=2000,w=[1.0,1.0], and alpha=1.0.\n",
        "* Save the cost and weight history returned by the gradient descent function.\n",
        "* Plot the cost history.\n",
        "* Answer: Which cost seems to do better on this dataset? Why do think that is?\n"
      ]
    },
    {
      "cell_type": "code",
      "execution_count": 91,
      "metadata": {
        "id": "877mY-4g_pR0",
        "colab": {
          "base_uri": "https://localhost:8080/",
          "height": 447
        },
        "outputId": "dc46879e-05f0-4962-9de9-7b280eb834c1"
      },
      "outputs": [
        {
          "output_type": "execute_result",
          "data": {
            "text/plain": [
              "[<matplotlib.lines.Line2D at 0x7801626bfa30>]"
            ]
          },
          "metadata": {},
          "execution_count": 91
        },
        {
          "output_type": "display_data",
          "data": {
            "text/plain": [
              "<Figure size 640x480 with 1 Axes>"
            ],
            "image/png": "[encoded data removed]"
          },
          "metadata": {}
        }
      ],
      "source": [
        "##Call the gradient_descent function here\n",
        "##Plot the cost history here\n",
        "weights = [1.0, 1.0]\n",
        "max_its = 2000\n",
        "alpha = 1.0\n",
        "weight_history_percp, cost_history_percp = gradient_descent(perceptron_cost, alpha, max_its, weights, x_classification_data, y_classification_data)\n",
        "plt.plot(cost_history_percp)"
      ]
    },
    {
      "cell_type": "markdown",
      "metadata": {
        "id": "qGyY2koB_pR0"
      },
      "source": [
        "Q10) [11 points]  The file 'heart.csv' has 304 lines, each one corresponding to a data point. Each row (i.e., data point), has several columns.\n",
        "\n",
        "* Read the data file. (Note that the first line is the header describing each column.)\n",
        "* Use the data above to set y to be the \"target\" and X to be the remaining columns.\n",
        "* Split your data into 80% train 20% test using train_test_split.\n",
        "* Use sklearn to fit a logistic regression model on your training set. Use all the default parameters. Do not evaluate at this point. (You can find out about sklearn logistic regression here: https://scikit-learn.org/stable/modules/generated/sklearn.linear_model.LogisticRegression.html)"
      ]
    },
    {
      "cell_type": "code",
      "source": [
        "# read heart csv data\n",
        "import pandas as pd\n",
        "\n",
        "heart_data = pd.read_csv('heart.csv')\n",
        "heart_data.columns\n",
        "x_val = heart_data[['age', 'sex', 'cp', 'trestbps', 'chol', 'fbs', 'restecg', 'thalach',\n",
        "       'exang', 'oldpeak', 'slope', 'ca', 'thal']]\n",
        "y_val = heart_data['target']\n",
        "\n",
        "x_val.head()"
      ],
      "metadata": {
        "colab": {
          "base_uri": "https://localhost:8080/",
          "height": 206
        },
        "id": "TUnxBQwr9KKG",
        "outputId": "91842d62-8986-4917-bd92-a90122612276"
      },
      "execution_count": 92,
      "outputs": [
        {
          "output_type": "execute_result",
          "data": {
            "text/plain": [
              "   age  sex  cp  trestbps  chol  fbs  restecg  thalach  exang  oldpeak  slope  \\\n",
              "0   63    1   3       145   233    1        0      150      0      2.3      0   \n",
              "1   37    1   2       130   250    0        1      187      0      3.5      0   \n",
              "2   41    0   1       130   204    0        0      172      0      1.4      2   \n",
              "3   56    1   1       120   236    0        1      178      0      0.8      2   \n",
              "4   57    0   0       120   354    0        1      163      1      0.6      2   \n",
              "\n",
              "   ca  thal  \n",
              "0   0     1  \n",
              "1   0     2  \n",
              "2   0     2  \n",
              "3   0     2  \n",
              "4   0     2  "
            ],
            "text/html": [
              "\n",
              "  <div id=\"df-83873286-63cd-4d88-a298-aaf27383bc4a\" class=\"colab-df-container\">\n",
              "    <div>\n",
              "<style scoped>\n",
              "    .dataframe tbody tr th:only-of-type {\n",
              "        vertical-align: middle;\n",
              "    }\n",
              "\n",
              "    .dataframe tbody tr th {\n",
              "        vertical-align: top;\n",
              "    }\n",
              "\n",
              "    .dataframe thead th {\n",
              "        text-align: right;\n",
              "    }\n",
              "</style>\n",
              "<table border=\"1\" class=\"dataframe\">\n",
              "  <thead>\n",
              "    <tr style=\"text-align: right;\">\n",
              "      <th></th>\n",
              "      <th>age</th>\n",
              "      <th>sex</th>\n",
              "      <th>cp</th>\n",
              "      <th>trestbps</th>\n",
              "      <th>chol</th>\n",
              "      <th>fbs</th>\n",
              "      <th>restecg</th>\n",
              "      <th>thalach</th>\n",
              "      <th>exang</th>\n",
              "      <th>oldpeak</th>\n",
              "      <th>slope</th>\n",
              "      <th>ca</th>\n",
              "      <th>thal</th>\n",
              "    </tr>\n",
              "  </thead>\n",
              "  <tbody>\n",
              "    <tr>\n",
              "      <th>0</th>\n",
              "      <td>63</td>\n",
              "      <td>1</td>\n",
              "      <td>3</td>\n",
              "      <td>145</td>\n",
              "      <td>233</td>\n",
              "      <td>1</td>\n",
              "      <td>0</td>\n",
              "      <td>150</td>\n",
              "      <td>0</td>\n",
              "      <td>2.3</td>\n",
              "      <td>0</td>\n",
              "      <td>0</td>\n",
              "      <td>1</td>\n",
              "    </tr>\n",
              "    <tr>\n",
              "      <th>1</th>\n",
              "      <td>37</td>\n",
              "      <td>1</td>\n",
              "      <td>2</td>\n",
              "      <td>130</td>\n",
              "      <td>250</td>\n",
              "      <td>0</td>\n",
              "      <td>1</td>\n",
              "      <td>187</td>\n",
              "      <td>0</td>\n",
              "      <td>3.5</td>\n",
              "      <td>0</td>\n",
              "      <td>0</td>\n",
              "      <td>2</td>\n",
              "    </tr>\n",
              "    <tr>\n",
              "      <th>2</th>\n",
              "      <td>41</td>\n",
              "      <td>0</td>\n",
              "      <td>1</td>\n",
              "      <td>130</td>\n",
              "      <td>204</td>\n",
              "      <td>0</td>\n",
              "      <td>0</td>\n",
              "      <td>172</td>\n",
              "      <td>0</td>\n",
              "      <td>1.4</td>\n",
              "      <td>2</td>\n",
              "      <td>0</td>\n",
              "      <td>2</td>\n",
              "    </tr>\n",
              "    <tr>\n",
              "      <th>3</th>\n",
              "      <td>56</td>\n",
              "      <td>1</td>\n",
              "      <td>1</td>\n",
              "      <td>120</td>\n",
              "      <td>236</td>\n",
              "      <td>0</td>\n",
              "      <td>1</td>\n",
              "      <td>178</td>\n",
              "      <td>0</td>\n",
              "      <td>0.8</td>\n",
              "      <td>2</td>\n",
              "      <td>0</td>\n",
              "      <td>2</td>\n",
              "    </tr>\n",
              "    <tr>\n",
              "      <th>4</th>\n",
              "      <td>57</td>\n",
              "      <td>0</td>\n",
              "      <td>0</td>\n",
              "      <td>120</td>\n",
              "      <td>354</td>\n",
              "      <td>0</td>\n",
              "      <td>1</td>\n",
              "      <td>163</td>\n",
              "      <td>1</td>\n",
              "      <td>0.6</td>\n",
              "      <td>2</td>\n",
              "      <td>0</td>\n",
              "      <td>2</td>\n",
              "    </tr>\n",
              "  </tbody>\n",
              "</table>\n",
              "</div>\n",
              "    <div class=\"colab-df-buttons\">\n",
              "\n",
              "  <div class=\"colab-df-container\">\n",
              "    <button class=\"colab-df-convert\" onclick=\"convertToInteractive('df-83873286-63cd-4d88-a298-aaf27383bc4a')\"\n",
              "            title=\"Convert this dataframe to an interactive table.\"\n",
              "            style=\"display:none;\">\n",
              "\n",
              "  <svg xmlns=\"http://www.w3.org/2000/svg\" height=\"24px\" viewBox=\"0 -960 960 960\">\n",
              "    <path d=\"M120-120v-720h720v720H120Zm60-500h600v-160H180v160Zm220 220h160v-160H400v160Zm0 220h160v-160H400v160ZM180-400h160v-160H180v160Zm440 0h160v-160H620v160ZM180-180h160v-160H180v160Zm440 0h160v-160H620v160Z\"/>\n",
              "  </svg>\n",
              "    </button>\n",
              "\n",
              "  <style>\n",
              "    .colab-df-container {\n",
              "      display:flex;\n",
              "      gap: 12px;\n",
              "    }\n",
              "\n",
              "    .colab-df-convert {\n",
              "      background-color: #E8F0FE;\n",
              "      border: none;\n",
              "      border-radius: 50%;\n",
              "      cursor: pointer;\n",
              "      display: none;\n",
              "      fill: #1967D2;\n",
              "      height: 32px;\n",
              "      padding: 0 0 0 0;\n",
              "      width: 32px;\n",
              "    }\n",
              "\n",
              "    .colab-df-convert:hover {\n",
              "      background-color: #E2EBFA;\n",
              "      box-shadow: 0px 1px 2px rgba(60, 64, 67, 0.3), 0px 1px 3px 1px rgba(60, 64, 67, 0.15);\n",
              "      fill: #174EA6;\n",
              "    }\n",
              "\n",
              "    .colab-df-buttons div {\n",
              "      margin-bottom: 4px;\n",
              "    }\n",
              "\n",
              "    [theme=dark] .colab-df-convert {\n",
              "      background-color: #3B4455;\n",
              "      fill: #D2E3FC;\n",
              "    }\n",
              "\n",
              "    [theme=dark] .colab-df-convert:hover {\n",
              "      background-color: #434B5C;\n",
              "      box-shadow: 0px 1px 3px 1px rgba(0, 0, 0, 0.15);\n",
              "      filter: drop-shadow(0px 1px 2px rgba(0, 0, 0, 0.3));\n",
              "      fill: #FFFFFF;\n",
              "    }\n",
              "  </style>\n",
              "\n",
              "    <script>\n",
              "      const buttonEl =\n",
              "        document.querySelector('#df-83873286-63cd-4d88-a298-aaf27383bc4a button.colab-df-convert');\n",
              "      buttonEl.style.display =\n",
              "        google.colab.kernel.accessAllowed ? 'block' : 'none';\n",
              "\n",
              "      async function convertToInteractive(key) {\n",
              "        const element = document.querySelector('#df-83873286-63cd-4d88-a298-aaf27383bc4a');\n",
              "        const dataTable =\n",
              "          await google.colab.kernel.invokeFunction('convertToInteractive',\n",
              "                                                    [key], {});\n",
              "        if (!dataTable) return;\n",
              "\n",
              "        const docLinkHtml = 'Like what you see? Visit the ' +\n",
              "          '<a target=\"_blank\" href=https://colab.research.google.com/notebooks/data_table.ipynb>data table notebook</a>'\n",
              "          + ' to learn more about interactive tables.';\n",
              "        element.innerHTML = '';\n",
              "        dataTable['output_type'] = 'display_data';\n",
              "        await google.colab.output.renderOutput(dataTable, element);\n",
              "        const docLink = document.createElement('div');\n",
              "        docLink.innerHTML = docLinkHtml;\n",
              "        element.appendChild(docLink);\n",
              "      }\n",
              "    </script>\n",
              "  </div>\n",
              "\n",
              "\n",
              "<div id=\"df-b7288e7e-d499-4081-835d-bf54b0b2b742\">\n",
              "  <button class=\"colab-df-quickchart\" onclick=\"quickchart('df-b7288e7e-d499-4081-835d-bf54b0b2b742')\"\n",
              "            title=\"Suggest charts.\"\n",
              "            style=\"display:none;\">\n",
              "\n",
              "<svg xmlns=\"http://www.w3.org/2000/svg\" height=\"24px\"viewBox=\"0 0 24 24\"\n",
              "     width=\"24px\">\n",
              "    <g>\n",
              "        <path d=\"M19 3H5c-1.1 0-2 .9-2 2v14c0 1.1.9 2 2 2h14c1.1 0 2-.9 2-2V5c0-1.1-.9-2-2-2zM9 17H7v-7h2v7zm4 0h-2V7h2v10zm4 0h-2v-4h2v4z\"/>\n",
              "    </g>\n",
              "</svg>\n",
              "  </button>\n",
              "\n",
              "<style>\n",
              "  .colab-df-quickchart {\n",
              "      --bg-color: #E8F0FE;\n",
              "      --fill-color: #1967D2;\n",
              "      --hover-bg-color: #E2EBFA;\n",
              "      --hover-fill-color: #174EA6;\n",
              "      --disabled-fill-color: #AAA;\n",
              "      --disabled-bg-color: #DDD;\n",
              "  }\n",
              "\n",
              "  [theme=dark] .colab-df-quickchart {\n",
              "      --bg-color: #3B4455;\n",
              "      --fill-color: #D2E3FC;\n",
              "      --hover-bg-color: #434B5C;\n",
              "      --hover-fill-color: #FFFFFF;\n",
              "      --disabled-bg-color: #3B4455;\n",
              "      --disabled-fill-color: #666;\n",
              "  }\n",
              "\n",
              "  .colab-df-quickchart {\n",
              "    background-color: var(--bg-color);\n",
              "    border: none;\n",
              "    border-radius: 50%;\n",
              "    cursor: pointer;\n",
              "    display: none;\n",
              "    fill: var(--fill-color);\n",
              "    height: 32px;\n",
              "    padding: 0;\n",
              "    width: 32px;\n",
              "  }\n",
              "\n",
              "  .colab-df-quickchart:hover {\n",
              "    background-color: var(--hover-bg-color);\n",
              "    box-shadow: 0 1px 2px rgba(60, 64, 67, 0.3), 0 1px 3px 1px rgba(60, 64, 67, 0.15);\n",
              "    fill: var(--button-hover-fill-color);\n",
              "  }\n",
              "\n",
              "  .colab-df-quickchart-complete:disabled,\n",
              "  .colab-df-quickchart-complete:disabled:hover {\n",
              "    background-color: var(--disabled-bg-color);\n",
              "    fill: var(--disabled-fill-color);\n",
              "    box-shadow: none;\n",
              "  }\n",
              "\n",
              "  .colab-df-spinner {\n",
              "    border: 2px solid var(--fill-color);\n",
              "    border-color: transparent;\n",
              "    border-bottom-color: var(--fill-color);\n",
              "    animation:\n",
              "      spin 1s steps(1) infinite;\n",
              "  }\n",
              "\n",
              "  @keyframes spin {\n",
              "    0% {\n",
              "      border-color: transparent;\n",
              "      border-bottom-color: var(--fill-color);\n",
              "      border-left-color: var(--fill-color);\n",
              "    }\n",
              "    20% {\n",
              "      border-color: transparent;\n",
              "      border-left-color: var(--fill-color);\n",
              "      border-top-color: var(--fill-color);\n",
              "    }\n",
              "    30% {\n",
              "      border-color: transparent;\n",
              "      border-left-color: var(--fill-color);\n",
              "      border-top-color: var(--fill-color);\n",
              "      border-right-color: var(--fill-color);\n",
              "    }\n",
              "    40% {\n",
              "      border-color: transparent;\n",
              "      border-right-color: var(--fill-color);\n",
              "      border-top-color: var(--fill-color);\n",
              "    }\n",
              "    60% {\n",
              "      border-color: transparent;\n",
              "      border-right-color: var(--fill-color);\n",
              "    }\n",
              "    80% {\n",
              "      border-color: transparent;\n",
              "      border-right-color: var(--fill-color);\n",
              "      border-bottom-color: var(--fill-color);\n",
              "    }\n",
              "    90% {\n",
              "      border-color: transparent;\n",
              "      border-bottom-color: var(--fill-color);\n",
              "    }\n",
              "  }\n",
              "</style>\n",
              "\n",
              "  <script>\n",
              "    async function quickchart(key) {\n",
              "      const quickchartButtonEl =\n",
              "        document.querySelector('#' + key + ' button');\n",
              "      quickchartButtonEl.disabled = true;  // To prevent multiple clicks.\n",
              "      quickchartButtonEl.classList.add('colab-df-spinner');\n",
              "      try {\n",
              "        const charts = await google.colab.kernel.invokeFunction(\n",
              "            'suggestCharts', [key], {});\n",
              "      } catch (error) {\n",
              "        console.error('Error during call to suggestCharts:', error);\n",
              "      }\n",
              "      quickchartButtonEl.classList.remove('colab-df-spinner');\n",
              "      quickchartButtonEl.classList.add('colab-df-quickchart-complete');\n",
              "    }\n",
              "    (() => {\n",
              "      let quickchartButtonEl =\n",
              "        document.querySelector('#df-b7288e7e-d499-4081-835d-bf54b0b2b742 button');\n",
              "      quickchartButtonEl.style.display =\n",
              "        google.colab.kernel.accessAllowed ? 'block' : 'none';\n",
              "    })();\n",
              "  </script>\n",
              "</div>\n",
              "    </div>\n",
              "  </div>\n"
            ]
          },
          "metadata": {},
          "execution_count": 92
        }
      ]
    },
    {
      "cell_type": "code",
      "execution_count": 93,
      "metadata": {
        "id": "lJ6qvvgw_pR0",
        "colab": {
          "base_uri": "https://localhost:8080/"
        },
        "outputId": "218316b0-158a-4aef-aa0d-9bdf3b7dda98"
      },
      "outputs": [
        {
          "output_type": "stream",
          "name": "stderr",
          "text": [
            "/usr/local/lib/python3.10/dist-packages/sklearn/linear_model/_logistic.py:458: ConvergenceWarning: lbfgs failed to converge (status=1):\n",
            "STOP: TOTAL NO. of ITERATIONS REACHED LIMIT.\n",
            "\n",
            "Increase the number of iterations (max_iter) or scale the data as shown in:\n",
            "    https://scikit-learn.org/stable/modules/preprocessing.html\n",
            "Please also refer to the documentation for alternative solver options:\n",
            "    https://scikit-learn.org/stable/modules/linear_model.html#logistic-regression\n",
            "  n_iter_i = _check_optimize_result(\n"
          ]
        }
      ],
      "source": [
        "## import logistic regression and the train_test split functions from sklearn\n",
        "from sklearn.linear_model import LogisticRegression\n",
        "from sklearn.model_selection import train_test_split\n",
        "\n",
        "##Your code here\n",
        "X_train, X_test, y_train, y_test = train_test_split(x_val, y_val, test_size=0.2, random_state=42)\n",
        "logistic_regression = LogisticRegression()\n",
        "lr_model = logistic_regression.fit(X_train, y_train)"
      ]
    },
    {
      "cell_type": "markdown",
      "metadata": {
        "id": "hFwuvl_W_pR1"
      },
      "source": [
        "Q11) [5 points] Use the .predict_proba function of the logistic regression model that you have learned on your X_test. Note that the .predict_proba function returns an array of tuples where each element corresponds to the predicted probability for class 0 and 1 of the data point."
      ]
    },
    {
      "cell_type": "code",
      "execution_count": 94,
      "metadata": {
        "id": "Fc94rZDs_pR2",
        "colab": {
          "base_uri": "https://localhost:8080/"
        },
        "outputId": "09ac6b7e-5aa4-4027-9367-2fbf0b8c727d"
      },
      "outputs": [
        {
          "output_type": "execute_result",
          "data": {
            "text/plain": [
              "array([[8.94047990e-01, 1.05952010e-01],\n",
              "       [2.54402852e-01, 7.45597148e-01],\n",
              "       [1.74457692e-01, 8.25542308e-01],\n",
              "       [9.72232098e-01, 2.77679021e-02],\n",
              "       [6.85832333e-02, 9.31416767e-01],\n",
              "       [8.88478610e-02, 9.11152139e-01],\n",
              "       [4.01030490e-01, 5.98969510e-01],\n",
              "       [9.98768491e-01, 1.23150911e-03],\n",
              "       [9.94888038e-01, 5.11196175e-03],\n",
              "       [4.86972948e-01, 5.13027052e-01],\n",
              "       [2.05266232e-01, 7.94733768e-01],\n",
              "       [9.39277514e-01, 6.07224865e-02],\n",
              "       [7.32670159e-02, 9.26732984e-01],\n",
              "       [9.79100892e-01, 2.08991082e-02],\n",
              "       [1.50688347e-02, 9.84931165e-01],\n",
              "       [5.00534657e-02, 9.49946534e-01],\n",
              "       [1.84972013e-02, 9.81502799e-01],\n",
              "       [9.45319888e-01, 5.46801124e-02],\n",
              "       [9.93341872e-01, 6.65812758e-03],\n",
              "       [9.89043311e-01, 1.09566890e-02],\n",
              "       [3.04178156e-01, 6.95821844e-01],\n",
              "       [9.91468466e-01, 8.53153371e-03],\n",
              "       [8.71188934e-01, 1.28811066e-01],\n",
              "       [1.70624263e-01, 8.29375737e-01],\n",
              "       [7.45555641e-02, 9.25444436e-01],\n",
              "       [3.14537797e-01, 6.85462203e-01],\n",
              "       [1.12666977e-01, 8.87333023e-01],\n",
              "       [3.21350288e-01, 6.78649712e-01],\n",
              "       [9.93063544e-01, 6.93645584e-03],\n",
              "       [8.22324505e-02, 9.17767550e-01],\n",
              "       [9.60542509e-01, 3.94574906e-02],\n",
              "       [9.69379148e-01, 3.06208516e-02],\n",
              "       [9.94097263e-01, 5.90273658e-03],\n",
              "       [9.25757941e-01, 7.42420595e-02],\n",
              "       [3.23886060e-01, 6.76113940e-01],\n",
              "       [9.30069432e-01, 6.99305682e-02],\n",
              "       [3.72260751e-01, 6.27739249e-01],\n",
              "       [1.13746142e-01, 8.86253858e-01],\n",
              "       [1.95777265e-01, 8.04222735e-01],\n",
              "       [1.42092188e-01, 8.57907812e-01],\n",
              "       [4.22444984e-01, 5.77555016e-01],\n",
              "       [1.68425701e-01, 8.31574299e-01],\n",
              "       [1.94180579e-01, 8.05819421e-01],\n",
              "       [3.22797367e-01, 6.77202633e-01],\n",
              "       [1.54581949e-01, 8.45418051e-01],\n",
              "       [9.93886658e-01, 6.11334217e-03],\n",
              "       [1.94744599e-01, 8.05255401e-01],\n",
              "       [4.39944420e-02, 9.56005558e-01],\n",
              "       [9.16636144e-01, 8.33638565e-02],\n",
              "       [9.72140263e-01, 2.78597370e-02],\n",
              "       [9.34061753e-01, 6.59382468e-02],\n",
              "       [9.87312051e-01, 1.26879492e-02],\n",
              "       [1.35071861e-01, 8.64928139e-01],\n",
              "       [2.00909063e-02, 9.79909094e-01],\n",
              "       [7.58957494e-01, 2.41042506e-01],\n",
              "       [9.99151772e-01, 8.48228313e-04],\n",
              "       [9.53781436e-01, 4.62185645e-02],\n",
              "       [3.68570566e-02, 9.63142943e-01],\n",
              "       [9.87346739e-01, 1.26532608e-02],\n",
              "       [9.95976621e-01, 4.02337864e-03],\n",
              "       [9.71474331e-01, 2.85256686e-02]])"
            ]
          },
          "metadata": {},
          "execution_count": 94
        }
      ],
      "source": [
        "##Your code here\n",
        "predicted_val = lr_model.predict_proba(X_test)\n",
        "predicted_val"
      ]
    },
    {
      "cell_type": "markdown",
      "metadata": {
        "id": "DdislPDJ_pR2"
      },
      "source": [
        "Q12) [12 points]\n",
        "\n",
        "Now you will report your results.\n",
        "\n",
        "* Filter the predicted probabilties from the last question to an array containing only the probabilites for class 1. (I.e., you should no longer have tuples.)\n",
        "* Use the roc_curve function from sklearn (https://scikit-learn.org/stable/modules/generated/sklearn.metrics.roc_curve.html) to plot the ROC curve for your predictions using the predicted probabilities for class 1 and your y_test (use the default parameters).\n",
        "* Print out the thresholds generated by the roc_curve function.\n",
        "* Use the roc_auc_score function from sklearn (https://scikit-learn.org/stable/modules/generated/sklearn.metrics.roc_auc_score.html#sklearn.metrics.roc_auc_score) to report the AUC score."
      ]
    },
    {
      "cell_type": "code",
      "execution_count": 95,
      "metadata": {
        "id": "Tkj9R0vZ_pR2",
        "colab": {
          "base_uri": "https://localhost:8080/",
          "height": 553
        },
        "outputId": "5c023449-9395-4e37-d1c3-49bc34028620"
      },
      "outputs": [
        {
          "output_type": "stream",
          "name": "stdout",
          "text": [
            "Thresholds [1.98493117e+00 9.84931165e-01 9.11152139e-01 8.87333023e-01\n",
            " 8.05819421e-01 8.05255401e-01 7.94733768e-01 7.45597148e-01\n",
            " 6.95821844e-01 6.85462203e-01 5.13027052e-01 8.33638565e-02\n",
            " 7.42420595e-02 6.59382468e-02 6.07224865e-02 4.62185645e-02\n",
            " 3.94574906e-02 8.48228313e-04]\n"
          ]
        },
        {
          "output_type": "execute_result",
          "data": {
            "text/plain": [
              "Text(0, 0.5, 'true positive')"
            ]
          },
          "metadata": {},
          "execution_count": 95
        },
        {
          "output_type": "display_data",
          "data": {
            "text/plain": [
              "<Figure size 640x480 with 1 Axes>"
            ],
            "image/png": "[encoded data removed]"
          },
          "metadata": {}
        }
      ],
      "source": [
        "##Your code here\n",
        "from sklearn import metrics\n",
        "prob_class_one = [probabilities[1] for probabilities in predicted_val]\n",
        "false_positive, true_positive, thresholds = metrics.roc_curve(y_test, prob_class_one)\n",
        "print('Thresholds', thresholds)\n",
        "plt.plot(false_positive, true_positive)\n",
        "plt.xlabel('false positive')\n",
        "plt.ylabel('true positive')"
      ]
    },
    {
      "cell_type": "code",
      "source": [
        "##Your code here\n",
        "from sklearn.metrics import roc_auc_score\n",
        "score = roc_auc_score(y_test, prob_class_one)\n",
        "print('AUC Score:', score)"
      ],
      "metadata": {
        "id": "FApMfK7pFPE4",
        "colab": {
          "base_uri": "https://localhost:8080/"
        },
        "outputId": "4283d227-7174-4404-f450-be54a66d3b09"
      },
      "execution_count": 96,
      "outputs": [
        {
          "output_type": "stream",
          "name": "stdout",
          "text": [
            "AUC Score: 0.9213362068965518\n"
          ]
        }
      ]
    }
  ],
  "metadata": {
    "kernelspec": {
      "display_name": "Python 3 (ipykernel)",
      "language": "python",
      "name": "python3"
    },
    "language_info": {
      "codemirror_mode": {
        "name": "ipython",
        "version": 3
      },
      "file_extension": ".py",
      "mimetype": "text/x-python",
      "name": "python",
      "nbconvert_exporter": "python",
      "pygments_lexer": "ipython3",
      "version": "3.8.12"
    },
    "colab": {
      "provenance": [],
      "include_colab_link": true
    }
  },
  "nbformat": 4,
  "nbformat_minor": 0
}