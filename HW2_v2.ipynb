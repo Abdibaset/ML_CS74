{
  "cells": [
    {
      "cell_type": "markdown",
      "metadata": {
        "id": "view-in-github",
        "colab_type": "text"
      },
      "source": [
        "<a href=\"https://colab.research.google.com/github/Abdibaset/ML_CS74/blob/main/HW2_v2.ipynb\" target=\"_parent\"><img src=\"https://colab.research.google.com/assets/colab-badge.svg\" alt=\"Open In Colab\"/></a>"
      ]
    },
    {
      "cell_type": "markdown",
      "metadata": {
        "id": "7nH7d2QIkBV4"
      },
      "source": [
        "# HW2  Regression Fun Time!"
      ]
    },
    {
      "cell_type": "markdown",
      "metadata": {
        "id": "0BMtn73EkBV5"
      },
      "source": [
        "Please run the cell below to import libraries needed for this HW. Please use the autograd numpy, otherwise you will have issues."
      ]
    },
    {
      "cell_type": "code",
      "execution_count": 652,
      "metadata": {
        "id": "1Dy9vEzJkBV6"
      },
      "outputs": [],
      "source": [
        "import autograd.numpy as np\n",
        "from autograd import grad\n",
        "import matplotlib.pyplot as plt\n",
        "%matplotlib inline\n"
      ]
    },
    {
      "cell_type": "markdown",
      "metadata": {
        "id": "k4Xi2yXOkBV6"
      },
      "source": [
        "Q1) **[10 points]**\n",
        "\n",
        "Implement the linear regression model discussed in class below. The function (called model) takes in an array of data points, x , and an array of weights, w, and returns a vector y_predicted containing the linear combination for each of the data points. This is the linear model we have discussed in class. You can assume each data point in x only has one feature.  The length of the vector being returned should be the same as x.\n"
      ]
    },
    {
      "cell_type": "code",
      "execution_count": 653,
      "metadata": {
        "id": "-oa8xQ7jkBV6"
      },
      "outputs": [],
      "source": [
        "def model(x,w):\n",
        "    x, w = np.array(x), np.array(w)\n",
        "    return w[0] + w[1]*x"
      ]
    },
    {
      "cell_type": "markdown",
      "metadata": {
        "id": "MCEN69STkBV6"
      },
      "source": [
        "Q2) **[10 ponts]**\n",
        "\n",
        "Implement the least squares function discussed in class below. The function should take in an array of weights, w, an array of x's and an array of ys. It should use the model function implemented above and return a float indicating the total cost."
      ]
    },
    {
      "cell_type": "code",
      "execution_count": 654,
      "metadata": {
        "id": "o2qygqSMkBV6"
      },
      "outputs": [],
      "source": [
        "def least_squares(w,x,y):\n",
        "    return np.mean((y-model(x, w))**2)"
      ]
    },
    {
      "cell_type": "markdown",
      "metadata": {
        "id": "zB4zhj3RkBV6"
      },
      "source": [
        "Q3) **[5 point]**\n",
        "\n",
        "This one is a freebie from HW1. Copy and paste your gradient descent function here. Specifically, the one that takes in the cost function as input and return the weight and cost history. We will be using a fixed alpha for this HW. The only difference is that this function should now also take in as input an array of x and ys, corresponding to our data. The w,x, and y are given as inputs to the cost funtion and its gradient."
      ]
    },
    {
      "cell_type": "code",
      "execution_count": 655,
      "metadata": {
        "id": "PIiL3QzFkBV7"
      },
      "outputs": [],
      "source": [
        "def gradient_descent(g,alpha,max_its,w,x,y):\n",
        "    gradient = grad(g)   ## This is how you use the autograd library to find the gradient of a function\n",
        "    weight_history = [w]\n",
        "    w, x, y = np.array(w), np.array(x), np.array(y)\n",
        "    cost_history = [g(w, x, y)]\n",
        "    for i in range(1, max_its):\n",
        "      curr_weight = weight_history[i-1]- alpha*np.array(gradient(weight_history[i-1], x, y))\n",
        "      weight_history.append(curr_weight)\n",
        "      cost_history.append(g(weight_history[i], x, y))\n",
        "    return weight_history,cost_history"
      ]
    },
    {
      "cell_type": "markdown",
      "metadata": {
        "id": "-AV6sw45kBV7"
      },
      "source": [
        "Q4) **[1 points]**  \n",
        "Run the code below to import a dataset. Then, plot a scatter plot of the data (x vs y)."
      ]
    },
    {
      "cell_type": "code",
      "execution_count": 656,
      "metadata": {
        "id": "mHIKQBnikBV7"
      },
      "outputs": [],
      "source": [
        "# import the dataset\n",
        "\n",
        "csvname = 'kleibers_law_data.csv'\n",
        "data = np.loadtxt(csvname,delimiter=',')\n",
        "x_klaw_data = np.log(data[:-1,:])\n",
        "y_klaw_data = np.log(data[-1:,:])"
      ]
    },
    {
      "cell_type": "code",
      "execution_count": 657,
      "metadata": {
        "id": "tOeXEK1-kBV7",
        "colab": {
          "base_uri": "https://localhost:8080/",
          "height": 489
        },
        "outputId": "932996d3-6cbf-49a3-e0b6-f9162ef280bd"
      },
      "outputs": [
        {
          "output_type": "execute_result",
          "data": {
            "text/plain": [
              "Text(0.5, 1.0, 'scatter of x against y')"
            ]
          },
          "metadata": {},
          "execution_count": 657
        },
        {
          "output_type": "display_data",
          "data": {
            "text/plain": [
              "<Figure size 640x480 with 1 Axes>"
            ],
            "image/png": "[encoded data removed]"
          },
          "metadata": {}
        }
      ],
      "source": [
        "import matplotlib.pyplot as plt\n",
        "\n",
        "plt.scatter(x_klaw_data, y_klaw_data)\n",
        "\n",
        "plt.xlabel('x')\n",
        "plt.ylabel('y')\n",
        "plt.title('scatter of x against y')"
      ]
    },
    {
      "cell_type": "markdown",
      "metadata": {
        "id": "rbaQHly_kBV7"
      },
      "source": [
        "Q5) **[10 points]**\n",
        "\n",
        "[Part 1] Use your gradient descent function to learn a linear regression model for the x and y above using the following parameters and plot the cost_history over the 1000 iterations\n",
        "\n",
        "g = least_squares function you implemented\n",
        "\n",
        "w = [w_0, w_1]  , where w_0 and w_1 are random numbers between -0.1 and 0.1\n",
        "\n",
        "max_its=1000\n",
        "\n",
        "alpha=0.01"
      ]
    },
    {
      "cell_type": "code",
      "execution_count": 658,
      "metadata": {
        "id": "CVWMp82IkBV7",
        "colab": {
          "base_uri": "https://localhost:8080/",
          "height": 487
        },
        "outputId": "bb22798d-36a9-4e82-a8e0-b04f69a85993"
      },
      "outputs": [
        {
          "output_type": "stream",
          "name": "stdout",
          "text": [
            "random weight generated [-0.03640702704981595, 0.06310799722478597]\n"
          ]
        },
        {
          "output_type": "execute_result",
          "data": {
            "text/plain": [
              "Text(0.5, 1.0, 'cost_history against number of steps')"
            ]
          },
          "metadata": {},
          "execution_count": 658
        },
        {
          "output_type": "display_data",
          "data": {
            "text/plain": [
              "<Figure size 640x480 with 1 Axes>"
            ],
            "image/png": "[encoded data removed]"
          },
          "metadata": {}
        }
      ],
      "source": [
        "#Your code here\n",
        "import random\n",
        "\n",
        "alpha = 0.01\n",
        "max_its = 1000\n",
        "start = -0.1\n",
        "end = 0.1\n",
        "weights = [np.random.uniform(start, end), np.random.uniform(start, end)]\n",
        "print('random weight generated', weights)\n",
        "weight_history, cost_history = gradient_descent(least_squares, alpha, max_its, weights, x_klaw_data, y_klaw_data)\n",
        "plt.plot(cost_history)\n",
        "plt.title('cost_history against number of steps')"
      ]
    },
    {
      "cell_type": "markdown",
      "metadata": {
        "id": "yKk6QQcxkBV7"
      },
      "source": [
        "Q5) [Part 2]\n",
        "\n",
        "Use the learned weights from above (note that the \"learned\" weights are the ones with the lowest cost) to plot the learned line. You can use the linspace method (shown below) to generate a list of xs that you can use for plotting. You need to generate a y for each of the candidate xs using the learned weights. On the same figure, also plot the scatter plot from Q4.\n"
      ]
    },
    {
      "cell_type": "code",
      "execution_count": 659,
      "metadata": {
        "id": "nxvZtvaKkBV7",
        "colab": {
          "base_uri": "https://localhost:8080/",
          "height": 447
        },
        "outputId": "c71caaef-6387-4b6f-c0f7-e32b93ae053d"
      },
      "outputs": [
        {
          "output_type": "execute_result",
          "data": {
            "text/plain": [
              "<matplotlib.legend.Legend at 0x7adb41c33f70>"
            ]
          },
          "metadata": {},
          "execution_count": 659
        },
        {
          "output_type": "display_data",
          "data": {
            "text/plain": [
              "<Figure size 640x480 with 1 Axes>"
            ],
            "image/png": "[encoded data removed]"
          },
          "metadata": {}
        }
      ],
      "source": [
        "x_axis = np.linspace(np.min(x_klaw_data),np.max(x_klaw_data))\n",
        "learned_weights = weight_history[-1]\n",
        "linear_model = learned_weights[0] + x_axis*learned_weights[1]\n",
        "\n",
        "\n",
        "plt.scatter(x_klaw_data, y_klaw_data, label='original data')\n",
        "plt.plot(x_axis, linear_model, label='linear model', color='red')\n",
        "plt.legend()"
      ]
    },
    {
      "cell_type": "markdown",
      "metadata": {
        "id": "IkQ9c5UDkBV7"
      },
      "source": [
        "Q6) **[1 points]**  \n",
        "\n",
        "Run the code below to import a dataset. Then, plot a scatter plot of the data (x vs y)."
      ]
    },
    {
      "cell_type": "code",
      "execution_count": 660,
      "metadata": {
        "id": "69-16xUzkBV7",
        "colab": {
          "base_uri": "https://localhost:8080/",
          "height": 489
        },
        "outputId": "ce2661cb-f647-4dd0-9e17-a095b83ad839"
      },
      "outputs": [
        {
          "output_type": "execute_result",
          "data": {
            "text/plain": [
              "Text(0.5, 1.0, 'regression_outliers')"
            ]
          },
          "metadata": {},
          "execution_count": 660
        },
        {
          "output_type": "display_data",
          "data": {
            "text/plain": [
              "<Figure size 640x480 with 1 Axes>"
            ],
            "image/png": "[encoded data removed]"
          },
          "metadata": {}
        }
      ],
      "source": [
        "# load in dataset\n",
        "data = np.loadtxt('regression_outliers.csv',delimiter = ',')\n",
        "x_regression_outliers = data[:-1,:]\n",
        "y_regression_outliers = data[-1:,:]\n",
        "\n",
        "\n",
        "plt.scatter(x_regression_outliers, y_regression_outliers)\n",
        "plt.xlabel('x')\n",
        "plt.ylabel('y')\n",
        "plt.title('regression_outliers')"
      ]
    },
    {
      "cell_type": "markdown",
      "metadata": {
        "id": "JB96CkjHkBV7"
      },
      "source": [
        "Q7) **[10 ponts]**\n",
        "\n",
        " Implement the least absolute deviations function discussed in class. The function should take in an array of weights, w, an array of x's and an array of ys. It should use the model function implemented in Q1  and return a float indicating the total cost."
      ]
    },
    {
      "cell_type": "code",
      "execution_count": 661,
      "metadata": {
        "id": "T8TDcEMzkBV7"
      },
      "outputs": [],
      "source": [
        "def least_absolute_deviations(w,x,y):\n",
        "    return np.sum(abs(y-model(x, w)))"
      ]
    },
    {
      "cell_type": "markdown",
      "metadata": {
        "id": "8n5jlQuCkBV7"
      },
      "source": [
        " Q8) **[10 points]**\n",
        "\n",
        "[Part 1] Use the gradient descent function twice to learn two linear models using the new x and y from Q6 using the following parameters and plot the cost_history for both runs on the same plot. Make the plot for the first run blue and the plot for the second run red.\n",
        "\n",
        "Run 1)\n",
        "g = least_squares function\n",
        "\n",
        "w = [1.0,1.0]\n",
        "\n",
        "max_its=100\n",
        "\n",
        "alpha=0.1\n",
        "\n",
        "Run 2)\n",
        "g = least_absoulte_deviations\n",
        "\n",
        "w = [1.0,1.0]\n",
        "\n",
        "max_its=100\n",
        "\n",
        "alpha=0.1\n"
      ]
    },
    {
      "cell_type": "code",
      "source": [
        "import random\n",
        "## call gradient descent function\n",
        "alpha = 0.1\n",
        "max_its = 100\n",
        "weights = [1.0, 1.0]\n",
        "weight_history_LSQ, cost_history_LSQ = gradient_descent(least_squares, alpha, max_its, weights, x_regression_outliers, y_regression_outliers)\n",
        "weight_history_LAD, cost_history_LAD = gradient_descent(least_absolute_deviations, alpha, max_its, weights, x_regression_outliers, y_regression_outliers)\n",
        "plt.plot(cost_history_LSQ, label='least_squares', color='blue')\n",
        "plt.plot(cost_history_LAD, label='least_absolute_deviations', color='red')\n",
        "plt.title('cost_history against number of steps')\n",
        "plt.xlabel('max_iterations')\n",
        "plt.ylabel('cost_history')\n",
        "plt.legend()\n"
      ],
      "metadata": {
        "colab": {
          "base_uri": "https://localhost:8080/",
          "height": 489
        },
        "id": "CoGjaivh00vg",
        "outputId": "2a51c259-432d-41c4-ab82-68cd74dfe70b"
      },
      "execution_count": 662,
      "outputs": [
        {
          "output_type": "execute_result",
          "data": {
            "text/plain": [
              "<matplotlib.legend.Legend at 0x7adb4c65f220>"
            ]
          },
          "metadata": {},
          "execution_count": 662
        },
        {
          "output_type": "display_data",
          "data": {
            "text/plain": [
              "<Figure size 640x480 with 1 Axes>"
            ],
            "image/png": "[encoded data removed]"
          },
          "metadata": {}
        }
      ]
    },
    {
      "cell_type": "markdown",
      "metadata": {
        "id": "-esXBxqWkBV7"
      },
      "source": [
        "Q8) **[Part 2]**\n",
        "\n",
        " Use the learned weights from above to plot the two learned lines (use same colors as above). You can use the linspace method again to generate a list of xs that you can use. On the same figure, also plot the scatter plot from Q6. Which of these lines look like a better fit to you?\n"
      ]
    },
    {
      "cell_type": "code",
      "execution_count": 663,
      "metadata": {
        "id": "gw-rgSDgkBV8",
        "colab": {
          "base_uri": "https://localhost:8080/",
          "height": 508
        },
        "outputId": "dc591e89-8944-44ca-e585-5994dd23b61a"
      },
      "outputs": [
        {
          "output_type": "execute_result",
          "data": {
            "text/plain": [
              "'\\nThe least absolute deviation fit better than the least squares model. The least squares model takes into account the outlier \\nin the data hence overfits the data \\n'"
            ],
            "application/vnd.google.colaboratory.intrinsic+json": {
              "type": "string"
            }
          },
          "metadata": {},
          "execution_count": 663
        },
        {
          "output_type": "display_data",
          "data": {
            "text/plain": [
              "<Figure size 640x480 with 1 Axes>"
            ],
            "image/png": "[encoded data removed]"
          },
          "metadata": {}
        }
      ],
      "source": [
        "x_axis = np.linspace(np.min(x_regression_outliers),np.max(x_regression_outliers))\n",
        "LSQ_learned_weights = weight_history_LSQ[-1]\n",
        "LAD_learned_weights = weight_history_LAD[-1]\n",
        "LSQ_y = LSQ_learned_weights[0] + LSQ_learned_weights[1]*x_axis\n",
        "LAD_y = LAD_learned_weights[0] + LAD_learned_weights[1]*x_axis\n",
        "plt.scatter(x_regression_outliers, y_regression_outliers)\n",
        "plt.plot(x_axis, LSQ_y, label='least squares')\n",
        "plt.plot(x_axis, LAD_y, label='least absolute deviation')\n",
        "plt.legend()\n",
        "plt.xlabel('x_regression_outliers')\n",
        "plt.ylabel('y_regression_outliers')\n",
        "plt.title('regression_outliers')\n",
        "'''\n",
        "The least absolute deviation fit better than the least squares model. The least squares model takes into account the outlier\n",
        "in the data hence overfits the data\n",
        "'''"
      ]
    },
    {
      "cell_type": "markdown",
      "metadata": {
        "id": "ncokUyn-kBV8"
      },
      "source": [
        "Q9) **[10 points]**\n",
        "\n",
        "[Part 1] Implement the mean squared error (MSE) and the mean absolute deviation functions from class. The functions should take in as input an array of actual ys and an array of predicted ys and return the prediction error."
      ]
    },
    {
      "cell_type": "code",
      "execution_count": 664,
      "metadata": {
        "id": "dPIA63CwkBV8"
      },
      "outputs": [],
      "source": [
        "def MSE(y_actual,y_pred):\n",
        "    return np.mean((y_actual-y_pred)**2)\n",
        "\n",
        "def MAD(y_actual,y_pred):\n",
        "    return np.mean(abs(y_actual-y_pred))"
      ]
    },
    {
      "cell_type": "markdown",
      "metadata": {
        "id": "wqIypBsUkBV8"
      },
      "source": [
        "Q9) [Part 2]\n",
        "Use the functions above to report the MSE and MAD for the two models learned in Q8 [Part 1], using the x and y from Q6. You should have 4 values total, two for each model. Which model is doing better? (Note that since you are evaluating the model on the training data, this corresponds to the training error)"
      ]
    },
    {
      "cell_type": "code",
      "execution_count": 665,
      "metadata": {
        "id": "yxp_PfIKkBV8",
        "colab": {
          "base_uri": "https://localhost:8080/"
        },
        "outputId": "37ab05a7-0934-4a7d-fb8a-10fc449f717d"
      },
      "outputs": [
        {
          "output_type": "stream",
          "name": "stdout",
          "text": [
            "MSE for least squares 6.84139430067187 MSE for least absolute deviation 9.71235950971864\n",
            "MAD for least squares 1.6893703656370611 MAD for least absolute deviation 1.36441361018557\n"
          ]
        }
      ],
      "source": [
        "## mean squared error calculations\n",
        "mse_LSQ_val = MSE(y_regression_outliers, model(x_regression_outliers, weight_history_LSQ[-1]))\n",
        "mse_LAD_val = MSE(y_regression_outliers, model(x_regression_outliers, weight_history_LAD[-1]))\n",
        "print('MSE for least squares', mse_LSQ_val, 'MSE for least absolute deviation', mse_LAD_val)\n",
        "\n",
        "## mean absolute deviation\n",
        "std_LSQ_val = MAD(y_regression_outliers, model(x_regression_outliers, weight_history_LSQ[-1]))\n",
        "std_LAD_val = MAD(y_regression_outliers, model(x_regression_outliers, weight_history_LAD[-1]))\n",
        "print('MAD for least squares', std_LSQ_val, 'MAD for least absolute deviation', std_LAD_val)"
      ]
    },
    {
      "cell_type": "markdown",
      "metadata": {
        "id": "du6x8r80kBV8"
      },
      "source": [
        "Q10) **[6 points]**\n",
        "\n",
        " Implement the L1 and L2 regularizers from class. Recall the regularizers take in input the weight vector and return a score based on the L1 or L2 norm of the weights"
      ]
    },
    {
      "cell_type": "code",
      "execution_count": 666,
      "metadata": {
        "id": "Yq9t2AFgkBV8"
      },
      "outputs": [],
      "source": [
        "def L2_regularizer(w):\n",
        "    return np.dot(w, w.T)\n",
        "\n",
        "def L1_regularizer(w):\n",
        "    return np.sum(w)"
      ]
    },
    {
      "cell_type": "markdown",
      "metadata": {
        "id": "rz7SmsPGkBV8"
      },
      "source": [
        "Q11) **[12 points]**\n",
        "\n",
        "Turn the least squares function implemented in Q2 into the Ridge (L2) and Lasso (L1) least squares (covered in class) using the functions implemented in Q10. Recall that $\\lambda$ is used as a hyperparameter to specify the smoothness of the function learned (higher $\\lambda$ leads to simpler and smoother functions whereas lower $\\lambda$ leads to better fitting to the data. $\\lambda=0$ is the same as non-regularized least-squares)"
      ]
    },
    {
      "cell_type": "code",
      "execution_count": 667,
      "metadata": {
        "id": "bNvTD0MnkBV8",
        "colab": {
          "base_uri": "https://localhost:8080/"
        },
        "outputId": "7ba0d1f2-bc2d-4be2-82e7-43e4d77f1050"
      },
      "outputs": [
        {
          "output_type": "stream",
          "name": "stdout",
          "text": [
            "ridge_output 7.639122857081746\n",
            "lasso_output 7.176955628506171\n"
          ]
        }
      ],
      "source": [
        "def ridge(w,x,y,lmbda):\n",
        "    return least_squares(w, x, y) + lmbda * np.mean(L2_regularizer(w))\n",
        "\n",
        "## LASSO stands for Least Absolute Shrinkage and Selection Operator.\n",
        "def lasso(w,x,y,lmbda):\n",
        "    return least_squares(w, x, y) + lmbda * np.mean(L1_regularizer(w))\n",
        "\n",
        "ridge_output = ridge(weight_history_LSQ[-1], x_regression_outliers, y_regression_outliers, 0.1)\n",
        "lasso_output = lasso(weight_history_LSQ[-1], x_regression_outliers, y_regression_outliers, 0.1)\n",
        "print('ridge_output', ridge_output)\n",
        "print('lasso_output', lasso_output)"
      ]
    },
    {
      "cell_type": "markdown",
      "metadata": {
        "id": "KYQe_LtloqME"
      },
      "source": [
        "## For the remaining questions we will work with `weatherHistory.csv` dataset"
      ]
    },
    {
      "cell_type": "markdown",
      "metadata": {
        "id": "wtedowknkBV8"
      },
      "source": [
        "The file 'weatherHistory.csv'has 96,454 lines, each one corresponding to a data point. Each row (i.e., data point), has several columns. Read the data file. Note that the first line is the header describing each column."
      ]
    },
    {
      "cell_type": "code",
      "execution_count": 668,
      "metadata": {
        "id": "mlagemJikBV8",
        "colab": {
          "base_uri": "https://localhost:8080/",
          "height": 293
        },
        "outputId": "ddcb8361-5c9d-430d-e275-ffd6d17bf42e"
      },
      "outputs": [
        {
          "output_type": "execute_result",
          "data": {
            "text/plain": [
              "                            Date        Summary Precip  Temperature  \\\n",
              "0  2006-04-01 00:00:00.000 +0200  Partly Cloudy   rain     9.472222   \n",
              "1  2006-04-01 01:00:00.000 +0200  Partly Cloudy   rain     9.355556   \n",
              "2  2006-04-01 02:00:00.000 +0200  Mostly Cloudy   rain     9.377778   \n",
              "3  2006-04-01 03:00:00.000 +0200  Partly Cloudy   rain     8.288889   \n",
              "4  2006-04-01 04:00:00.000 +0200  Mostly Cloudy   rain     8.755556   \n",
              "\n",
              "   Apparent_Temperature  Humidity  Wind_Speed  Wind_Bearing  Visibility  \\\n",
              "0              7.388889      0.89     14.1197         251.0     15.8263   \n",
              "1              7.227778      0.86     14.2646         259.0     15.8263   \n",
              "2              9.377778      0.89      3.9284         204.0     14.9569   \n",
              "3              5.944444      0.83     14.1036         269.0     15.8263   \n",
              "4              6.977778      0.83     11.0446         259.0     15.8263   \n",
              "\n",
              "   Loud_Cover  Pressure                      Daily_Summary  \n",
              "0         0.0   1015.13  Partly cloudy throughout the day.  \n",
              "1         0.0   1015.63  Partly cloudy throughout the day.  \n",
              "2         0.0   1015.94  Partly cloudy throughout the day.  \n",
              "3         0.0   1016.41  Partly cloudy throughout the day.  \n",
              "4         0.0   1016.51  Partly cloudy throughout the day.  "
            ],
            "text/html": [
              "\n",
              "  <div id=\"df-a1bcb6b8-7eff-42de-9b09-54b9d40fe06a\" class=\"colab-df-container\">\n",
              "    <div>\n",
              "<style scoped>\n",
              "    .dataframe tbody tr th:only-of-type {\n",
              "        vertical-align: middle;\n",
              "    }\n",
              "\n",
              "    .dataframe tbody tr th {\n",
              "        vertical-align: top;\n",
              "    }\n",
              "\n",
              "    .dataframe thead th {\n",
              "        text-align: right;\n",
              "    }\n",
              "</style>\n",
              "<table border=\"1\" class=\"dataframe\">\n",
              "  <thead>\n",
              "    <tr style=\"text-align: right;\">\n",
              "      <th></th>\n",
              "      <th>Date</th>\n",
              "      <th>Summary</th>\n",
              "      <th>Precip</th>\n",
              "      <th>Temperature</th>\n",
              "      <th>Apparent_Temperature</th>\n",
              "      <th>Humidity</th>\n",
              "      <th>Wind_Speed</th>\n",
              "      <th>Wind_Bearing</th>\n",
              "      <th>Visibility</th>\n",
              "      <th>Loud_Cover</th>\n",
              "      <th>Pressure</th>\n",
              "      <th>Daily_Summary</th>\n",
              "    </tr>\n",
              "  </thead>\n",
              "  <tbody>\n",
              "    <tr>\n",
              "      <th>0</th>\n",
              "      <td>2006-04-01 00:00:00.000 +0200</td>\n",
              "      <td>Partly Cloudy</td>\n",
              "      <td>rain</td>\n",
              "      <td>9.472222</td>\n",
              "      <td>7.388889</td>\n",
              "      <td>0.89</td>\n",
              "      <td>14.1197</td>\n",
              "      <td>251.0</td>\n",
              "      <td>15.8263</td>\n",
              "      <td>0.0</td>\n",
              "      <td>1015.13</td>\n",
              "      <td>Partly cloudy throughout the day.</td>\n",
              "    </tr>\n",
              "    <tr>\n",
              "      <th>1</th>\n",
              "      <td>2006-04-01 01:00:00.000 +0200</td>\n",
              "      <td>Partly Cloudy</td>\n",
              "      <td>rain</td>\n",
              "      <td>9.355556</td>\n",
              "      <td>7.227778</td>\n",
              "      <td>0.86</td>\n",
              "      <td>14.2646</td>\n",
              "      <td>259.0</td>\n",
              "      <td>15.8263</td>\n",
              "      <td>0.0</td>\n",
              "      <td>1015.63</td>\n",
              "      <td>Partly cloudy throughout the day.</td>\n",
              "    </tr>\n",
              "    <tr>\n",
              "      <th>2</th>\n",
              "      <td>2006-04-01 02:00:00.000 +0200</td>\n",
              "      <td>Mostly Cloudy</td>\n",
              "      <td>rain</td>\n",
              "      <td>9.377778</td>\n",
              "      <td>9.377778</td>\n",
              "      <td>0.89</td>\n",
              "      <td>3.9284</td>\n",
              "      <td>204.0</td>\n",
              "      <td>14.9569</td>\n",
              "      <td>0.0</td>\n",
              "      <td>1015.94</td>\n",
              "      <td>Partly cloudy throughout the day.</td>\n",
              "    </tr>\n",
              "    <tr>\n",
              "      <th>3</th>\n",
              "      <td>2006-04-01 03:00:00.000 +0200</td>\n",
              "      <td>Partly Cloudy</td>\n",
              "      <td>rain</td>\n",
              "      <td>8.288889</td>\n",
              "      <td>5.944444</td>\n",
              "      <td>0.83</td>\n",
              "      <td>14.1036</td>\n",
              "      <td>269.0</td>\n",
              "      <td>15.8263</td>\n",
              "      <td>0.0</td>\n",
              "      <td>1016.41</td>\n",
              "      <td>Partly cloudy throughout the day.</td>\n",
              "    </tr>\n",
              "    <tr>\n",
              "      <th>4</th>\n",
              "      <td>2006-04-01 04:00:00.000 +0200</td>\n",
              "      <td>Mostly Cloudy</td>\n",
              "      <td>rain</td>\n",
              "      <td>8.755556</td>\n",
              "      <td>6.977778</td>\n",
              "      <td>0.83</td>\n",
              "      <td>11.0446</td>\n",
              "      <td>259.0</td>\n",
              "      <td>15.8263</td>\n",
              "      <td>0.0</td>\n",
              "      <td>1016.51</td>\n",
              "      <td>Partly cloudy throughout the day.</td>\n",
              "    </tr>\n",
              "  </tbody>\n",
              "</table>\n",
              "</div>\n",
              "    <div class=\"colab-df-buttons\">\n",
              "\n",
              "  <div class=\"colab-df-container\">\n",
              "    <button class=\"colab-df-convert\" onclick=\"convertToInteractive('df-a1bcb6b8-7eff-42de-9b09-54b9d40fe06a')\"\n",
              "            title=\"Convert this dataframe to an interactive table.\"\n",
              "            style=\"display:none;\">\n",
              "\n",
              "  <svg xmlns=\"http://www.w3.org/2000/svg\" height=\"24px\" viewBox=\"0 -960 960 960\">\n",
              "    <path d=\"M120-120v-720h720v720H120Zm60-500h600v-160H180v160Zm220 220h160v-160H400v160Zm0 220h160v-160H400v160ZM180-400h160v-160H180v160Zm440 0h160v-160H620v160ZM180-180h160v-160H180v160Zm440 0h160v-160H620v160Z\"/>\n",
              "  </svg>\n",
              "    </button>\n",
              "\n",
              "  <style>\n",
              "    .colab-df-container {\n",
              "      display:flex;\n",
              "      gap: 12px;\n",
              "    }\n",
              "\n",
              "    .colab-df-convert {\n",
              "      background-color: #E8F0FE;\n",
              "      border: none;\n",
              "      border-radius: 50%;\n",
              "      cursor: pointer;\n",
              "      display: none;\n",
              "      fill: #1967D2;\n",
              "      height: 32px;\n",
              "      padding: 0 0 0 0;\n",
              "      width: 32px;\n",
              "    }\n",
              "\n",
              "    .colab-df-convert:hover {\n",
              "      background-color: #E2EBFA;\n",
              "      box-shadow: 0px 1px 2px rgba(60, 64, 67, 0.3), 0px 1px 3px 1px rgba(60, 64, 67, 0.15);\n",
              "      fill: #174EA6;\n",
              "    }\n",
              "\n",
              "    .colab-df-buttons div {\n",
              "      margin-bottom: 4px;\n",
              "    }\n",
              "\n",
              "    [theme=dark] .colab-df-convert {\n",
              "      background-color: #3B4455;\n",
              "      fill: #D2E3FC;\n",
              "    }\n",
              "\n",
              "    [theme=dark] .colab-df-convert:hover {\n",
              "      background-color: #434B5C;\n",
              "      box-shadow: 0px 1px 3px 1px rgba(0, 0, 0, 0.15);\n",
              "      filter: drop-shadow(0px 1px 2px rgba(0, 0, 0, 0.3));\n",
              "      fill: #FFFFFF;\n",
              "    }\n",
              "  </style>\n",
              "\n",
              "    <script>\n",
              "      const buttonEl =\n",
              "        document.querySelector('#df-a1bcb6b8-7eff-42de-9b09-54b9d40fe06a button.colab-df-convert');\n",
              "      buttonEl.style.display =\n",
              "        google.colab.kernel.accessAllowed ? 'block' : 'none';\n",
              "\n",
              "      async function convertToInteractive(key) {\n",
              "        const element = document.querySelector('#df-a1bcb6b8-7eff-42de-9b09-54b9d40fe06a');\n",
              "        const dataTable =\n",
              "          await google.colab.kernel.invokeFunction('convertToInteractive',\n",
              "                                                    [key], {});\n",
              "        if (!dataTable) return;\n",
              "\n",
              "        const docLinkHtml = 'Like what you see? Visit the ' +\n",
              "          '<a target=\"_blank\" href=https://colab.research.google.com/notebooks/data_table.ipynb>data table notebook</a>'\n",
              "          + ' to learn more about interactive tables.';\n",
              "        element.innerHTML = '';\n",
              "        dataTable['output_type'] = 'display_data';\n",
              "        await google.colab.output.renderOutput(dataTable, element);\n",
              "        const docLink = document.createElement('div');\n",
              "        docLink.innerHTML = docLinkHtml;\n",
              "        element.appendChild(docLink);\n",
              "      }\n",
              "    </script>\n",
              "  </div>\n",
              "\n",
              "\n",
              "<div id=\"df-64d748ba-6519-4df5-9c67-89f9cbc2323c\">\n",
              "  <button class=\"colab-df-quickchart\" onclick=\"quickchart('df-64d748ba-6519-4df5-9c67-89f9cbc2323c')\"\n",
              "            title=\"Suggest charts.\"\n",
              "            style=\"display:none;\">\n",
              "\n",
              "<svg xmlns=\"http://www.w3.org/2000/svg\" height=\"24px\"viewBox=\"0 0 24 24\"\n",
              "     width=\"24px\">\n",
              "    <g>\n",
              "        <path d=\"M19 3H5c-1.1 0-2 .9-2 2v14c0 1.1.9 2 2 2h14c1.1 0 2-.9 2-2V5c0-1.1-.9-2-2-2zM9 17H7v-7h2v7zm4 0h-2V7h2v10zm4 0h-2v-4h2v4z\"/>\n",
              "    </g>\n",
              "</svg>\n",
              "  </button>\n",
              "\n",
              "<style>\n",
              "  .colab-df-quickchart {\n",
              "      --bg-color: #E8F0FE;\n",
              "      --fill-color: #1967D2;\n",
              "      --hover-bg-color: #E2EBFA;\n",
              "      --hover-fill-color: #174EA6;\n",
              "      --disabled-fill-color: #AAA;\n",
              "      --disabled-bg-color: #DDD;\n",
              "  }\n",
              "\n",
              "  [theme=dark] .colab-df-quickchart {\n",
              "      --bg-color: #3B4455;\n",
              "      --fill-color: #D2E3FC;\n",
              "      --hover-bg-color: #434B5C;\n",
              "      --hover-fill-color: #FFFFFF;\n",
              "      --disabled-bg-color: #3B4455;\n",
              "      --disabled-fill-color: #666;\n",
              "  }\n",
              "\n",
              "  .colab-df-quickchart {\n",
              "    background-color: var(--bg-color);\n",
              "    border: none;\n",
              "    border-radius: 50%;\n",
              "    cursor: pointer;\n",
              "    display: none;\n",
              "    fill: var(--fill-color);\n",
              "    height: 32px;\n",
              "    padding: 0;\n",
              "    width: 32px;\n",
              "  }\n",
              "\n",
              "  .colab-df-quickchart:hover {\n",
              "    background-color: var(--hover-bg-color);\n",
              "    box-shadow: 0 1px 2px rgba(60, 64, 67, 0.3), 0 1px 3px 1px rgba(60, 64, 67, 0.15);\n",
              "    fill: var(--button-hover-fill-color);\n",
              "  }\n",
              "\n",
              "  .colab-df-quickchart-complete:disabled,\n",
              "  .colab-df-quickchart-complete:disabled:hover {\n",
              "    background-color: var(--disabled-bg-color);\n",
              "    fill: var(--disabled-fill-color);\n",
              "    box-shadow: none;\n",
              "  }\n",
              "\n",
              "  .colab-df-spinner {\n",
              "    border: 2px solid var(--fill-color);\n",
              "    border-color: transparent;\n",
              "    border-bottom-color: var(--fill-color);\n",
              "    animation:\n",
              "      spin 1s steps(1) infinite;\n",
              "  }\n",
              "\n",
              "  @keyframes spin {\n",
              "    0% {\n",
              "      border-color: transparent;\n",
              "      border-bottom-color: var(--fill-color);\n",
              "      border-left-color: var(--fill-color);\n",
              "    }\n",
              "    20% {\n",
              "      border-color: transparent;\n",
              "      border-left-color: var(--fill-color);\n",
              "      border-top-color: var(--fill-color);\n",
              "    }\n",
              "    30% {\n",
              "      border-color: transparent;\n",
              "      border-left-color: var(--fill-color);\n",
              "      border-top-color: var(--fill-color);\n",
              "      border-right-color: var(--fill-color);\n",
              "    }\n",
              "    40% {\n",
              "      border-color: transparent;\n",
              "      border-right-color: var(--fill-color);\n",
              "      border-top-color: var(--fill-color);\n",
              "    }\n",
              "    60% {\n",
              "      border-color: transparent;\n",
              "      border-right-color: var(--fill-color);\n",
              "    }\n",
              "    80% {\n",
              "      border-color: transparent;\n",
              "      border-right-color: var(--fill-color);\n",
              "      border-bottom-color: var(--fill-color);\n",
              "    }\n",
              "    90% {\n",
              "      border-color: transparent;\n",
              "      border-bottom-color: var(--fill-color);\n",
              "    }\n",
              "  }\n",
              "</style>\n",
              "\n",
              "  <script>\n",
              "    async function quickchart(key) {\n",
              "      const quickchartButtonEl =\n",
              "        document.querySelector('#' + key + ' button');\n",
              "      quickchartButtonEl.disabled = true;  // To prevent multiple clicks.\n",
              "      quickchartButtonEl.classList.add('colab-df-spinner');\n",
              "      try {\n",
              "        const charts = await google.colab.kernel.invokeFunction(\n",
              "            'suggestCharts', [key], {});\n",
              "      } catch (error) {\n",
              "        console.error('Error during call to suggestCharts:', error);\n",
              "      }\n",
              "      quickchartButtonEl.classList.remove('colab-df-spinner');\n",
              "      quickchartButtonEl.classList.add('colab-df-quickchart-complete');\n",
              "    }\n",
              "    (() => {\n",
              "      let quickchartButtonEl =\n",
              "        document.querySelector('#df-64d748ba-6519-4df5-9c67-89f9cbc2323c button');\n",
              "      quickchartButtonEl.style.display =\n",
              "        google.colab.kernel.accessAllowed ? 'block' : 'none';\n",
              "    })();\n",
              "  </script>\n",
              "</div>\n",
              "    </div>\n",
              "  </div>\n"
            ]
          },
          "metadata": {},
          "execution_count": 668
        }
      ],
      "source": [
        "import pandas as pd\n",
        "weather_history_data = pd.read_csv('weatherHistory.csv')\n",
        "weather_history_data.head()"
      ]
    },
    {
      "cell_type": "markdown",
      "metadata": {
        "id": "BhEVKhbEkBV8"
      },
      "source": [
        " Use the data above to set y to be the temperatures and X to be the following columns (in order): [Apparent_Temperature, Humidity, Wind_Speed, Wind_Bearing, Visibility, Pressure] Basically, we want to see whether we can predict the temperature, using the features in X."
      ]
    },
    {
      "cell_type": "code",
      "execution_count": 669,
      "metadata": {
        "id": "H2J0qIxbkBV8",
        "colab": {
          "base_uri": "https://localhost:8080/",
          "height": 206
        },
        "outputId": "c1fc7290-fa94-4869-dea8-9f07322b3f4d"
      },
      "outputs": [
        {
          "output_type": "execute_result",
          "data": {
            "text/plain": [
              "   Apparent_Temperature  Humidity  Wind_Speed  Wind_Bearing  Visibility  \\\n",
              "0              7.388889      0.89     14.1197         251.0     15.8263   \n",
              "1              7.227778      0.86     14.2646         259.0     15.8263   \n",
              "2              9.377778      0.89      3.9284         204.0     14.9569   \n",
              "3              5.944444      0.83     14.1036         269.0     15.8263   \n",
              "4              6.977778      0.83     11.0446         259.0     15.8263   \n",
              "\n",
              "   Pressure  \n",
              "0   1015.13  \n",
              "1   1015.63  \n",
              "2   1015.94  \n",
              "3   1016.41  \n",
              "4   1016.51  "
            ],
            "text/html": [
              "\n",
              "  <div id=\"df-06c48f87-c2e6-45e7-b99a-c227422e8a28\" class=\"colab-df-container\">\n",
              "    <div>\n",
              "<style scoped>\n",
              "    .dataframe tbody tr th:only-of-type {\n",
              "        vertical-align: middle;\n",
              "    }\n",
              "\n",
              "    .dataframe tbody tr th {\n",
              "        vertical-align: top;\n",
              "    }\n",
              "\n",
              "    .dataframe thead th {\n",
              "        text-align: right;\n",
              "    }\n",
              "</style>\n",
              "<table border=\"1\" class=\"dataframe\">\n",
              "  <thead>\n",
              "    <tr style=\"text-align: right;\">\n",
              "      <th></th>\n",
              "      <th>Apparent_Temperature</th>\n",
              "      <th>Humidity</th>\n",
              "      <th>Wind_Speed</th>\n",
              "      <th>Wind_Bearing</th>\n",
              "      <th>Visibility</th>\n",
              "      <th>Pressure</th>\n",
              "    </tr>\n",
              "  </thead>\n",
              "  <tbody>\n",
              "    <tr>\n",
              "      <th>0</th>\n",
              "      <td>7.388889</td>\n",
              "      <td>0.89</td>\n",
              "      <td>14.1197</td>\n",
              "      <td>251.0</td>\n",
              "      <td>15.8263</td>\n",
              "      <td>1015.13</td>\n",
              "    </tr>\n",
              "    <tr>\n",
              "      <th>1</th>\n",
              "      <td>7.227778</td>\n",
              "      <td>0.86</td>\n",
              "      <td>14.2646</td>\n",
              "      <td>259.0</td>\n",
              "      <td>15.8263</td>\n",
              "      <td>1015.63</td>\n",
              "    </tr>\n",
              "    <tr>\n",
              "      <th>2</th>\n",
              "      <td>9.377778</td>\n",
              "      <td>0.89</td>\n",
              "      <td>3.9284</td>\n",
              "      <td>204.0</td>\n",
              "      <td>14.9569</td>\n",
              "      <td>1015.94</td>\n",
              "    </tr>\n",
              "    <tr>\n",
              "      <th>3</th>\n",
              "      <td>5.944444</td>\n",
              "      <td>0.83</td>\n",
              "      <td>14.1036</td>\n",
              "      <td>269.0</td>\n",
              "      <td>15.8263</td>\n",
              "      <td>1016.41</td>\n",
              "    </tr>\n",
              "    <tr>\n",
              "      <th>4</th>\n",
              "      <td>6.977778</td>\n",
              "      <td>0.83</td>\n",
              "      <td>11.0446</td>\n",
              "      <td>259.0</td>\n",
              "      <td>15.8263</td>\n",
              "      <td>1016.51</td>\n",
              "    </tr>\n",
              "  </tbody>\n",
              "</table>\n",
              "</div>\n",
              "    <div class=\"colab-df-buttons\">\n",
              "\n",
              "  <div class=\"colab-df-container\">\n",
              "    <button class=\"colab-df-convert\" onclick=\"convertToInteractive('df-06c48f87-c2e6-45e7-b99a-c227422e8a28')\"\n",
              "            title=\"Convert this dataframe to an interactive table.\"\n",
              "            style=\"display:none;\">\n",
              "\n",
              "  <svg xmlns=\"http://www.w3.org/2000/svg\" height=\"24px\" viewBox=\"0 -960 960 960\">\n",
              "    <path d=\"M120-120v-720h720v720H120Zm60-500h600v-160H180v160Zm220 220h160v-160H400v160Zm0 220h160v-160H400v160ZM180-400h160v-160H180v160Zm440 0h160v-160H620v160ZM180-180h160v-160H180v160Zm440 0h160v-160H620v160Z\"/>\n",
              "  </svg>\n",
              "    </button>\n",
              "\n",
              "  <style>\n",
              "    .colab-df-container {\n",
              "      display:flex;\n",
              "      gap: 12px;\n",
              "    }\n",
              "\n",
              "    .colab-df-convert {\n",
              "      background-color: #E8F0FE;\n",
              "      border: none;\n",
              "      border-radius: 50%;\n",
              "      cursor: pointer;\n",
              "      display: none;\n",
              "      fill: #1967D2;\n",
              "      height: 32px;\n",
              "      padding: 0 0 0 0;\n",
              "      width: 32px;\n",
              "    }\n",
              "\n",
              "    .colab-df-convert:hover {\n",
              "      background-color: #E2EBFA;\n",
              "      box-shadow: 0px 1px 2px rgba(60, 64, 67, 0.3), 0px 1px 3px 1px rgba(60, 64, 67, 0.15);\n",
              "      fill: #174EA6;\n",
              "    }\n",
              "\n",
              "    .colab-df-buttons div {\n",
              "      margin-bottom: 4px;\n",
              "    }\n",
              "\n",
              "    [theme=dark] .colab-df-convert {\n",
              "      background-color: #3B4455;\n",
              "      fill: #D2E3FC;\n",
              "    }\n",
              "\n",
              "    [theme=dark] .colab-df-convert:hover {\n",
              "      background-color: #434B5C;\n",
              "      box-shadow: 0px 1px 3px 1px rgba(0, 0, 0, 0.15);\n",
              "      filter: drop-shadow(0px 1px 2px rgba(0, 0, 0, 0.3));\n",
              "      fill: #FFFFFF;\n",
              "    }\n",
              "  </style>\n",
              "\n",
              "    <script>\n",
              "      const buttonEl =\n",
              "        document.querySelector('#df-06c48f87-c2e6-45e7-b99a-c227422e8a28 button.colab-df-convert');\n",
              "      buttonEl.style.display =\n",
              "        google.colab.kernel.accessAllowed ? 'block' : 'none';\n",
              "\n",
              "      async function convertToInteractive(key) {\n",
              "        const element = document.querySelector('#df-06c48f87-c2e6-45e7-b99a-c227422e8a28');\n",
              "        const dataTable =\n",
              "          await google.colab.kernel.invokeFunction('convertToInteractive',\n",
              "                                                    [key], {});\n",
              "        if (!dataTable) return;\n",
              "\n",
              "        const docLinkHtml = 'Like what you see? Visit the ' +\n",
              "          '<a target=\"_blank\" href=https://colab.research.google.com/notebooks/data_table.ipynb>data table notebook</a>'\n",
              "          + ' to learn more about interactive tables.';\n",
              "        element.innerHTML = '';\n",
              "        dataTable['output_type'] = 'display_data';\n",
              "        await google.colab.output.renderOutput(dataTable, element);\n",
              "        const docLink = document.createElement('div');\n",
              "        docLink.innerHTML = docLinkHtml;\n",
              "        element.appendChild(docLink);\n",
              "      }\n",
              "    </script>\n",
              "  </div>\n",
              "\n",
              "\n",
              "<div id=\"df-82fde968-0d31-49fa-af5f-423293cfc4bb\">\n",
              "  <button class=\"colab-df-quickchart\" onclick=\"quickchart('df-82fde968-0d31-49fa-af5f-423293cfc4bb')\"\n",
              "            title=\"Suggest charts.\"\n",
              "            style=\"display:none;\">\n",
              "\n",
              "<svg xmlns=\"http://www.w3.org/2000/svg\" height=\"24px\"viewBox=\"0 0 24 24\"\n",
              "     width=\"24px\">\n",
              "    <g>\n",
              "        <path d=\"M19 3H5c-1.1 0-2 .9-2 2v14c0 1.1.9 2 2 2h14c1.1 0 2-.9 2-2V5c0-1.1-.9-2-2-2zM9 17H7v-7h2v7zm4 0h-2V7h2v10zm4 0h-2v-4h2v4z\"/>\n",
              "    </g>\n",
              "</svg>\n",
              "  </button>\n",
              "\n",
              "<style>\n",
              "  .colab-df-quickchart {\n",
              "      --bg-color: #E8F0FE;\n",
              "      --fill-color: #1967D2;\n",
              "      --hover-bg-color: #E2EBFA;\n",
              "      --hover-fill-color: #174EA6;\n",
              "      --disabled-fill-color: #AAA;\n",
              "      --disabled-bg-color: #DDD;\n",
              "  }\n",
              "\n",
              "  [theme=dark] .colab-df-quickchart {\n",
              "      --bg-color: #3B4455;\n",
              "      --fill-color: #D2E3FC;\n",
              "      --hover-bg-color: #434B5C;\n",
              "      --hover-fill-color: #FFFFFF;\n",
              "      --disabled-bg-color: #3B4455;\n",
              "      --disabled-fill-color: #666;\n",
              "  }\n",
              "\n",
              "  .colab-df-quickchart {\n",
              "    background-color: var(--bg-color);\n",
              "    border: none;\n",
              "    border-radius: 50%;\n",
              "    cursor: pointer;\n",
              "    display: none;\n",
              "    fill: var(--fill-color);\n",
              "    height: 32px;\n",
              "    padding: 0;\n",
              "    width: 32px;\n",
              "  }\n",
              "\n",
              "  .colab-df-quickchart:hover {\n",
              "    background-color: var(--hover-bg-color);\n",
              "    box-shadow: 0 1px 2px rgba(60, 64, 67, 0.3), 0 1px 3px 1px rgba(60, 64, 67, 0.15);\n",
              "    fill: var(--button-hover-fill-color);\n",
              "  }\n",
              "\n",
              "  .colab-df-quickchart-complete:disabled,\n",
              "  .colab-df-quickchart-complete:disabled:hover {\n",
              "    background-color: var(--disabled-bg-color);\n",
              "    fill: var(--disabled-fill-color);\n",
              "    box-shadow: none;\n",
              "  }\n",
              "\n",
              "  .colab-df-spinner {\n",
              "    border: 2px solid var(--fill-color);\n",
              "    border-color: transparent;\n",
              "    border-bottom-color: var(--fill-color);\n",
              "    animation:\n",
              "      spin 1s steps(1) infinite;\n",
              "  }\n",
              "\n",
              "  @keyframes spin {\n",
              "    0% {\n",
              "      border-color: transparent;\n",
              "      border-bottom-color: var(--fill-color);\n",
              "      border-left-color: var(--fill-color);\n",
              "    }\n",
              "    20% {\n",
              "      border-color: transparent;\n",
              "      border-left-color: var(--fill-color);\n",
              "      border-top-color: var(--fill-color);\n",
              "    }\n",
              "    30% {\n",
              "      border-color: transparent;\n",
              "      border-left-color: var(--fill-color);\n",
              "      border-top-color: var(--fill-color);\n",
              "      border-right-color: var(--fill-color);\n",
              "    }\n",
              "    40% {\n",
              "      border-color: transparent;\n",
              "      border-right-color: var(--fill-color);\n",
              "      border-top-color: var(--fill-color);\n",
              "    }\n",
              "    60% {\n",
              "      border-color: transparent;\n",
              "      border-right-color: var(--fill-color);\n",
              "    }\n",
              "    80% {\n",
              "      border-color: transparent;\n",
              "      border-right-color: var(--fill-color);\n",
              "      border-bottom-color: var(--fill-color);\n",
              "    }\n",
              "    90% {\n",
              "      border-color: transparent;\n",
              "      border-bottom-color: var(--fill-color);\n",
              "    }\n",
              "  }\n",
              "</style>\n",
              "\n",
              "  <script>\n",
              "    async function quickchart(key) {\n",
              "      const quickchartButtonEl =\n",
              "        document.querySelector('#' + key + ' button');\n",
              "      quickchartButtonEl.disabled = true;  // To prevent multiple clicks.\n",
              "      quickchartButtonEl.classList.add('colab-df-spinner');\n",
              "      try {\n",
              "        const charts = await google.colab.kernel.invokeFunction(\n",
              "            'suggestCharts', [key], {});\n",
              "      } catch (error) {\n",
              "        console.error('Error during call to suggestCharts:', error);\n",
              "      }\n",
              "      quickchartButtonEl.classList.remove('colab-df-spinner');\n",
              "      quickchartButtonEl.classList.add('colab-df-quickchart-complete');\n",
              "    }\n",
              "    (() => {\n",
              "      let quickchartButtonEl =\n",
              "        document.querySelector('#df-82fde968-0d31-49fa-af5f-423293cfc4bb button');\n",
              "      quickchartButtonEl.style.display =\n",
              "        google.colab.kernel.accessAllowed ? 'block' : 'none';\n",
              "    })();\n",
              "  </script>\n",
              "</div>\n",
              "    </div>\n",
              "  </div>\n"
            ]
          },
          "metadata": {},
          "execution_count": 669
        }
      ],
      "source": [
        "y_val = weather_history_data['Temperature']\n",
        "x_val = []\n",
        "x_val = weather_history_data[['Apparent_Temperature', 'Humidity', 'Wind_Speed', 'Wind_Bearing', 'Visibility', 'Pressure']]\n",
        "x_val.head()"
      ]
    },
    {
      "cell_type": "markdown",
      "metadata": {
        "id": "4WAABQ8xkBV8"
      },
      "source": [
        "We are now going to using a well-known ML library called sklearn. If you do not have it installed, please do so using this instruction: https://scikit-learn.org/stable/install.html\n",
        "\n",
        "sklearn comes with many models already implemented, below we import the standard linear regression, Ridge, and Lasso models from sklearn. We also import a method that can divide our data into train/test sets. Please run the cell below."
      ]
    },
    {
      "cell_type": "code",
      "execution_count": 670,
      "metadata": {
        "id": "sdXG25m_kBV9"
      },
      "outputs": [],
      "source": [
        "from sklearn.linear_model import LinearRegression, Ridge, Lasso\n",
        "from sklearn.model_selection import train_test_split"
      ]
    },
    {
      "cell_type": "markdown",
      "metadata": {
        "id": "L4uecmO2kBV9"
      },
      "source": [
        "This library is very easy to use. We briefly went over it in the class but please use the API and user guide  ( https://scikit-learn.org) to learn exactly how to use this library.\n",
        "\n",
        "For instance, learning a linear regression model using sklearn can be done in two lines:\n",
        "\n",
        "linearModel = LinearRegression()\n",
        "\n",
        "linearModel.fit(x_train, y_train)"
      ]
    },
    {
      "cell_type": "markdown",
      "metadata": {
        "id": "M8j2x8P8kBWM"
      },
      "source": [
        "Use the train_test_split to divide your modified data into 80% train, 20% test."
      ]
    },
    {
      "cell_type": "code",
      "execution_count": 671,
      "metadata": {
        "id": "o8xS-wB4kBWM"
      },
      "outputs": [],
      "source": [
        "x_train, x_test, y_train, y_test = train_test_split(x_val, y_val, test_size=0.2, random_state=27)\n",
        "linear_model = LinearRegression()\n",
        "fitted_lg_model = linear_model.fit(x_train, y_train)\n",
        "predicted_y = fitted_lg_model.predict(x_test)"
      ]
    },
    {
      "cell_type": "markdown",
      "metadata": {
        "id": "B_j-KBBtkBWM"
      },
      "source": [
        "Q12) **[8 points]**\n",
        "\n",
        "Use sklearn to train a LinearRegression model using the data above. Report the performance of the model on the test data (use sklearn's MSE implementation: https://scikit-learn.org/stable/modules/generated/sklearn.metrics.mean_squared_error.html). Note that the .predict method can be used to get the y_predictions for the test xs."
      ]
    },
    {
      "cell_type": "code",
      "execution_count": 672,
      "metadata": {
        "id": "gq9QBuhFkBWN",
        "colab": {
          "base_uri": "https://localhost:8080/"
        },
        "outputId": "471d0ea4-7c3a-4e37-b2e0-978c0fe9b742"
      },
      "outputs": [
        {
          "output_type": "stream",
          "name": "stdout",
          "text": [
            "Mean Squared Error from linear regression: 0.9101793963494722\n"
          ]
        }
      ],
      "source": [
        "from sklearn.metrics import mean_squared_error\n",
        "\n",
        "mse_linear_model = mean_squared_error(predicted_y, y_test)\n",
        "print('Mean Squared Error from linear regression:', mse_linear_model)"
      ]
    },
    {
      "cell_type": "markdown",
      "metadata": {
        "id": "p1JSq3k2kBWN"
      },
      "source": [
        "Q13) **[7 points]**\n",
        "\n",
        "Repeat Q12 but instead of LinearRegression, use the Ridge and Lasso functions. You can keep the default alpha (note that what we called lambda in the class, the hyperparameter for regularization, is called alpha in sklearn. It is the same thing).\n",
        "\n",
        "Print the learned parameters for the Ridge and Lasso models (using .coef_). Note that the parameters below correspond to the feature vector ( [Apparent_Temperature, Humidity, Wind_Speed, Wind_Bearing, Visibility, Pressure]), in order. I.e., the first value corresponds to \"Apparent_Temperature\", etc. What is the difference between the ridge and lasso parameters? Which features, if any, have been eliminated by lasso?"
      ]
    },
    {
      "cell_type": "code",
      "execution_count": 673,
      "metadata": {
        "id": "ymHn9lMlkBWN",
        "colab": {
          "base_uri": "https://localhost:8080/",
          "height": 105
        },
        "outputId": "ce12d8d9-fbfc-4a4c-e08e-7c89cbae7179"
      },
      "outputs": [
        {
          "output_type": "stream",
          "name": "stdout",
          "text": [
            "ridge model learned coefficients: [ 8.72435255e-01 -1.42697925e+00  7.97217543e-02 -4.09988619e-04\n",
            "  8.51667629e-03 -2.29383458e-04]\n",
            "lasso model learned coefficients: [ 8.80284571e-01 -0.00000000e+00  6.89253735e-02 -2.59720865e-04\n",
            "  0.00000000e+00 -1.84333372e-04]\n"
          ]
        },
        {
          "output_type": "execute_result",
          "data": {
            "text/plain": [
              "'\\nThe weights of some of the features have been eliminated by the lasso model as shown by the coefficients. \\n'"
            ],
            "application/vnd.google.colaboratory.intrinsic+json": {
              "type": "string"
            }
          },
          "metadata": {},
          "execution_count": 673
        }
      ],
      "source": [
        "ridge_model = Ridge()\n",
        "lasso_model = Lasso()\n",
        "\n",
        "fitted_rg_model = ridge_model.fit(x_train, y_train)\n",
        "fitted_lm_model = lasso_model.fit(x_train, y_train)\n",
        "\n",
        "pred_y_rg_model = fitted_rg_model.predict(x_test)\n",
        "pred_y_lm_model = fitted_lm_model.predict(x_test)\n",
        "print('ridge model learned coefficients:', fitted_rg_model.coef_)\n",
        "print('lasso model learned coefficients:', fitted_lm_model.coef_)\n",
        "\n",
        "'''\n",
        "The weights of some of the features have been eliminated by the lasso model as shown by the coefficients.\n",
        "'''"
      ]
    }
  ],
  "metadata": {
    "colab": {
      "provenance": [],
      "include_colab_link": true
    },
    "kernelspec": {
      "display_name": "Python 3 (ipykernel)",
      "language": "python",
      "name": "python3"
    },
    "language_info": {
      "codemirror_mode": {
        "name": "ipython",
        "version": 3
      },
      "file_extension": ".py",
      "mimetype": "text/x-python",
      "name": "python",
      "nbconvert_exporter": "python",
      "pygments_lexer": "ipython3",
      "version": "3.8.12"
    }
  },
  "nbformat": 4,
  "nbformat_minor": 0
}